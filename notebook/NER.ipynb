{
 "cells": [
  {
   "metadata": {},
   "cell_type": "markdown",
   "source": [
    "# Задание 1\n",
    "\n",
    "Опишите задачу с точки зрения NLP. Что это за задача, какие классические методы существуют для ее решения? Как ее можно решать через LLM? Как обычно оценивают качество моделей в этой задаче?\n",
    "\n",
    "\n",
    "Это задача распознавания именных сущностей(Named entity recognition NER), задача nlp, где мы пытаемся в тексте понять, где находятся имена/номера домов/названия организаций/ и т.д.\n",
    "\n",
    "Классические методы решения NER включают:\n",
    "\n",
    "* Подходы, основанные на правилах: с помощью регулярок/шаблонов/лингвистических признаков.\n",
    "* На основе машинного обучения: Модели, например BERT, обучаются на размеченных данных, чтобы после обучения они сами могли распознавать именованные сущности.\n",
    "* Гибридные подходы: Могут сначала использоваться подходы на основе правил, а после на основе ml для уточнения.\n",
    "\n",
    "Для оценки качества можно использовать метрики, как precision, recall, f-мера\n"
   ],
   "id": "5ae6ea4f6828f359"
  },
  {
   "metadata": {},
   "cell_type": "markdown",
   "source": [
    "# Задание 2\n",
    "Реализуйте чтение датасета в pandas DataFrame с обязательными колонками \"document_id\", \"document_text\", \"entity\", \"gold_answer\". "
   ],
   "id": "3b7ffdad32da4a1f"
  },
  {
   "metadata": {
    "ExecuteTime": {
     "end_time": "2024-05-09T03:29:58.721291Z",
     "start_time": "2024-05-09T03:29:58.687571Z"
    }
   },
   "cell_type": "code",
   "source": [
    "from corus import load_bsnlp  # я сначала сам пытался прочитать файлы, но нашел замечательную либу, которая за меня это сделает\n",
    "\n",
    "path = '../data'  # путь к датасетам\n",
    "doc_id = []\n",
    "doc_text = []\n",
    "full_entity = []\n",
    "full_gold = []\n",
    "records = load_bsnlp(path)\n",
    "for record in records:\n",
    "    gold_answer = []\n",
    "    entity = []\n",
    "    doc_id.append(record.id)\n",
    "    doc_text.append(record.text)\n",
    "    for ner in record.substrings:\n",
    "        if ner.type not in entity:\n",
    "            entity.append(ner.type)\n",
    "        if f'{ner.type}-{ner.normal}' not in gold_answer:\n",
    "            gold_answer.append(f'{ner.type}-{ner.normal}')\n",
    "    full_entity.append(', '.join(entity))\n",
    "    full_gold.append(', '.join(sorted(gold_answer)))"
   ],
   "id": "c795ae0859f1e8c2",
   "outputs": [],
   "execution_count": 1
  },
  {
   "metadata": {
    "ExecuteTime": {
     "end_time": "2024-05-09T03:29:58.724999Z",
     "start_time": "2024-05-09T03:29:58.721291Z"
    }
   },
   "cell_type": "code",
   "source": [
    "import pandas as pd\n",
    "\n",
    "data = pd.DataFrame({\n",
    "    'document_id': doc_id,\n",
    "    'document_text': doc_text,\n",
    "    'entity': full_entity,\n",
    "    'gold_answer': full_gold\n",
    "})\n"
   ],
   "id": "a969707dd715a28d",
   "outputs": [],
   "execution_count": 2
  },
  {
   "metadata": {
    "ExecuteTime": {
     "end_time": "2024-05-09T03:29:58.736368Z",
     "start_time": "2024-05-09T03:29:58.726856Z"
    }
   },
   "cell_type": "code",
   "source": "data.head()",
   "id": "d8dad901b4f9a5c2",
   "outputs": [
    {
     "data": {
      "text/plain": [
       "  document_id                                      document_text  \\\n",
       "0       ru-10  Тереза Мэй рассчитывает усидеть в седле до зав...   \n",
       "1     ru-1000  Подробности.ua: Третий за сутки: Борис Джонсон...   \n",
       "2     ru-1001  Глава МИД Британии Борис Джонсон подал в отста...   \n",
       "3     ru-1002  09.07.2018 18:09 : Премьер-министр Великобрита...   \n",
       "4     ru-1003  09.07.2018 17:02 : Министр иностранных дел Вел...   \n",
       "\n",
       "                    entity                                        gold_answer  \n",
       "0       EVT, LOC, PER, ORG  EVT-Brexit, EVT-брекзит, EVT-брексит, LOC-Альб...  \n",
       "1  EVT, PRO, PER, LOC, ORG  EVT-Brexit, LOC-Великобритания, ORG-ЕС, ORG-МИ...  \n",
       "2       ORG, EVT, PER, LOC  EVT-Brexit, LOC-Великобритания, LOC-Соединенно...  \n",
       "3       PER, EVT, LOC, ORG  EVT-Брекзит, LOC-Великобритания, ORG-ЕС, ORG-Е...  \n",
       "4       PER, LOC, ORG, EVT  EVT-брекзит, LOC-Великобритания, LOC-Даунинг-С...  "
      ],
      "text/html": [
       "<div>\n",
       "<style scoped>\n",
       "    .dataframe tbody tr th:only-of-type {\n",
       "        vertical-align: middle;\n",
       "    }\n",
       "\n",
       "    .dataframe tbody tr th {\n",
       "        vertical-align: top;\n",
       "    }\n",
       "\n",
       "    .dataframe thead th {\n",
       "        text-align: right;\n",
       "    }\n",
       "</style>\n",
       "<table border=\"1\" class=\"dataframe\">\n",
       "  <thead>\n",
       "    <tr style=\"text-align: right;\">\n",
       "      <th></th>\n",
       "      <th>document_id</th>\n",
       "      <th>document_text</th>\n",
       "      <th>entity</th>\n",
       "      <th>gold_answer</th>\n",
       "    </tr>\n",
       "  </thead>\n",
       "  <tbody>\n",
       "    <tr>\n",
       "      <th>0</th>\n",
       "      <td>ru-10</td>\n",
       "      <td>Тереза Мэй рассчитывает усидеть в седле до зав...</td>\n",
       "      <td>EVT, LOC, PER, ORG</td>\n",
       "      <td>EVT-Brexit, EVT-брекзит, EVT-брексит, LOC-Альб...</td>\n",
       "    </tr>\n",
       "    <tr>\n",
       "      <th>1</th>\n",
       "      <td>ru-1000</td>\n",
       "      <td>Подробности.ua: Третий за сутки: Борис Джонсон...</td>\n",
       "      <td>EVT, PRO, PER, LOC, ORG</td>\n",
       "      <td>EVT-Brexit, LOC-Великобритания, ORG-ЕС, ORG-МИ...</td>\n",
       "    </tr>\n",
       "    <tr>\n",
       "      <th>2</th>\n",
       "      <td>ru-1001</td>\n",
       "      <td>Глава МИД Британии Борис Джонсон подал в отста...</td>\n",
       "      <td>ORG, EVT, PER, LOC</td>\n",
       "      <td>EVT-Brexit, LOC-Великобритания, LOC-Соединенно...</td>\n",
       "    </tr>\n",
       "    <tr>\n",
       "      <th>3</th>\n",
       "      <td>ru-1002</td>\n",
       "      <td>09.07.2018 18:09 : Премьер-министр Великобрита...</td>\n",
       "      <td>PER, EVT, LOC, ORG</td>\n",
       "      <td>EVT-Брекзит, LOC-Великобритания, ORG-ЕС, ORG-Е...</td>\n",
       "    </tr>\n",
       "    <tr>\n",
       "      <th>4</th>\n",
       "      <td>ru-1003</td>\n",
       "      <td>09.07.2018 17:02 : Министр иностранных дел Вел...</td>\n",
       "      <td>PER, LOC, ORG, EVT</td>\n",
       "      <td>EVT-брекзит, LOC-Великобритания, LOC-Даунинг-С...</td>\n",
       "    </tr>\n",
       "  </tbody>\n",
       "</table>\n",
       "</div>"
      ]
     },
     "execution_count": 3,
     "metadata": {},
     "output_type": "execute_result"
    }
   ],
   "execution_count": 3
  },
  {
   "metadata": {},
   "cell_type": "markdown",
   "source": [
    "# Задание 3\n",
    "Напишите функцию, которая принимает на вход строку датафрейма и выдает текст входного сообщения для LLM."
   ],
   "id": "f18996998e8ea003"
  },
  {
   "metadata": {
    "ExecuteTime": {
     "end_time": "2024-05-09T03:29:58.740158Z",
     "start_time": "2024-05-09T03:29:58.736368Z"
    }
   },
   "cell_type": "code",
   "source": [
    "def for_llm(row):\n",
    "    return f\"\"\"Вы - передовая система распознавания именованных сущностей (NER). Ваша задача — идентифицировать следующие категории: PER(личности), ORG(организации), LOC(места), EVT(события), PRO(продукты). Ниже дан текст, найдите все именованные сущности по порядку. Ищите так, как будто от этого зависит чья-то жизнь. Используй только те сущности, которые есть в тексте.  \n",
    "Соблюдайте следующий формат ответа: PRO-название продукта, ORG-название организации, PER-имя, EVT-название мероприятия, LOC-место/страна\n",
    "Текст: {row['document_text']}\n",
    "\"\"\"\n"
   ],
   "id": "b0ce3ace51a2e6fb",
   "outputs": [],
   "execution_count": 4
  },
  {
   "metadata": {
    "ExecuteTime": {
     "end_time": "2024-05-09T03:29:58.745284Z",
     "start_time": "2024-05-09T03:29:58.740158Z"
    }
   },
   "cell_type": "code",
   "source": [
    "prompts = []\n",
    "for index, row in data.iterrows():\n",
    "    prompts.append(for_llm(row))\n",
    "\n",
    "data['prompt'] = prompts"
   ],
   "id": "1a62bf5601e23640",
   "outputs": [],
   "execution_count": 5
  },
  {
   "metadata": {},
   "cell_type": "markdown",
   "source": [
    "# Задание 4\n",
    "\n",
    "Получите ответы GigaChat для всех документов. Документов всего 9, поэтому сделать это можно вручную, пользуясь веб-интерфейсом GigaChat или ботом в ВК или Телеграме. Не очищайте историю сообщений, чтобы потом продемонстрировать подлинность ответов на онлайн-собеседовании.\n",
    "Внесите ответы GigaChat в датафрейм, сохраните его.\n"
   ],
   "id": "6843a9adc4145dc6"
  },
  {
   "metadata": {
    "ExecuteTime": {
     "end_time": "2024-05-09T03:29:58.748508Z",
     "start_time": "2024-05-09T03:29:58.746293Z"
    }
   },
   "cell_type": "code",
   "source": "to_df = []",
   "id": "168f76a2ef91bad9",
   "outputs": [],
   "execution_count": 6
  },
  {
   "metadata": {
    "ExecuteTime": {
     "end_time": "2024-05-09T03:29:58.753182Z",
     "start_time": "2024-05-09T03:29:58.748508Z"
    }
   },
   "cell_type": "code",
   "source": [
    "# ru-10\n",
    "llm_response = \"\"\"PER-Тереза Мэй, Борис Джонсон, Себастьян Курц, Мишель Барнье\n",
    "ORG-Консервативная партия, Европейский Союз, Международный валютный фонд, Еврокомиссия\n",
    "EVT-конференция тори, экстренный саммит Евросоюза\n",
    "LOC-Британия, Северная Ирландия, Брюссель\"\"\"\n",
    "llm_response = llm_response.split('\\n')\n",
    "one_doc = []\n",
    "for line in llm_response:\n",
    "    line = line.split(', ')\n",
    "    for i, named_entity in enumerate(line):\n",
    "        if i == 0:\n",
    "            try:\n",
    "                _entity = named_entity[:3]\n",
    "                one_doc.append(named_entity)\n",
    "                continue\n",
    "            except:\n",
    "                _entity = 'UNK'\n",
    "        if f'{_entity}-{named_entity}' not in one_doc:\n",
    "            one_doc.append(f'{_entity}-{named_entity}')\n",
    "to_df.append(', '.join(sorted(one_doc)))"
   ],
   "id": "bbdf297970664beb",
   "outputs": [],
   "execution_count": 7
  },
  {
   "metadata": {
    "ExecuteTime": {
     "end_time": "2024-05-09T03:29:58.757959Z",
     "start_time": "2024-05-09T03:29:58.754194Z"
    }
   },
   "cell_type": "code",
   "source": [
    "# ru-1000\n",
    "llm_response = \"\"\"PER-Борис Джонсон, Тереза Мэй, Дэвид Дэвис, Стив Бейкер\n",
    "ORG-Подробности.ua, The Guardian, УНН, британский парламент\"\"\"\n",
    "llm_response = llm_response.split('\\n')\n",
    "one_doc = []\n",
    "for line in llm_response:\n",
    "    line = line.split(', ')\n",
    "    for i, named_entity in enumerate(line):\n",
    "        if i == 0:\n",
    "            try:\n",
    "                _entity = named_entity[:3]\n",
    "                one_doc.append(named_entity)\n",
    "                continue\n",
    "            except:\n",
    "                _entity = 'UNK'\n",
    "        if f'{_entity}-{named_entity}' not in one_doc:\n",
    "            one_doc.append(f'{_entity}-{named_entity}')\n",
    "to_df.append(', '.join(sorted(one_doc)))"
   ],
   "id": "57c143e9dc95c4b2",
   "outputs": [],
   "execution_count": 8
  },
  {
   "metadata": {
    "ExecuteTime": {
     "end_time": "2024-05-09T03:29:58.761551Z",
     "start_time": "2024-05-09T03:29:58.757959Z"
    }
   },
   "cell_type": "code",
   "source": [
    "# ru-1001\n",
    "llm_response = \"\"\"PER-Борис Джонсон, PER-Тереза Мэй, ORG-МИД Британии, ORG-Associated Press, ORG-канцелярия премьера\"\"\"\n",
    "to_df.append(', '.join(sorted(llm_response.split(', '))))"
   ],
   "id": "e601b53ca2cb8bab",
   "outputs": [],
   "execution_count": 9
  },
  {
   "metadata": {
    "ExecuteTime": {
     "end_time": "2024-05-09T03:29:58.766423Z",
     "start_time": "2024-05-09T03:29:58.761551Z"
    }
   },
   "cell_type": "code",
   "source": [
    "# ru-1002\n",
    "llm_response = \"\"\"PER-Тереза Мей, Борис Джонсон, Дэвид Дэвис\"\"\"\n",
    "llm_response = llm_response.split('\\n')\n",
    "one_doc = []\n",
    "for line in llm_response:\n",
    "    line = line.split(', ')\n",
    "    for i, named_entity in enumerate(line):\n",
    "        if i == 0:\n",
    "            try:\n",
    "                _entity = named_entity[:3]\n",
    "                one_doc.append(named_entity)\n",
    "                continue\n",
    "            except:\n",
    "                _entity = 'UNK'\n",
    "        if f'{_entity}-{named_entity}' not in one_doc:\n",
    "            one_doc.append(f'{_entity}-{named_entity}')\n",
    "to_df.append(', '.join(sorted(one_doc)))"
   ],
   "id": "77330debfc437da1",
   "outputs": [],
   "execution_count": 10
  },
  {
   "metadata": {
    "ExecuteTime": {
     "end_time": "2024-05-09T03:29:58.770864Z",
     "start_time": "2024-05-09T03:29:58.767435Z"
    }
   },
   "cell_type": "code",
   "source": [
    "# ru-1003\n",
    "llm_response = \"\"\"PER-Борис Джонсон, Тереза Мэй, Дэвид Дэвис\n",
    "ORG-Министерство иностранных дел Великобритании, агентство Рейтер, Даунинг-Стрит\"\"\"\n",
    "llm_response = llm_response.split('\\n')\n",
    "one_doc = []\n",
    "for line in llm_response:\n",
    "    line = line.split(', ')\n",
    "    for i, named_entity in enumerate(line):\n",
    "        if i == 0:\n",
    "            try:\n",
    "                _entity = named_entity[:3]\n",
    "                one_doc.append(named_entity)\n",
    "                continue\n",
    "            except:\n",
    "                _entity = 'UNK'\n",
    "        if f'{_entity}-{named_entity}' not in one_doc:\n",
    "            one_doc.append(f'{_entity}-{named_entity}')\n",
    "to_df.append(', '.join(sorted(one_doc)))"
   ],
   "id": "c10562c70f0900c7",
   "outputs": [],
   "execution_count": 11
  },
  {
   "metadata": {
    "ExecuteTime": {
     "end_time": "2024-05-09T03:29:58.776640Z",
     "start_time": "2024-05-09T03:29:58.772872Z"
    }
   },
   "cell_type": "code",
   "source": [
    "# ru-1004\n",
    "llm_response = \"\"\"PER-Борис Джонсон, Тереза Мэй, Дэвид Дэвис\n",
    "ORG-МИД Великобритании, канцелярия премьер-министра, Консервативная партия\n",
    "EVT-отставка, саммит по развитию региона Западных Балкан\n",
    "LOC-Великобритания, Евросоюз\"\"\"\n",
    "llm_response = llm_response.split('\\n')\n",
    "one_doc = []\n",
    "for line in llm_response:\n",
    "    line = line.split(', ')\n",
    "    for i, named_entity in enumerate(line):\n",
    "        if i == 0:\n",
    "            try:\n",
    "                _entity = named_entity[:3]\n",
    "                one_doc.append(named_entity)\n",
    "                continue\n",
    "            except:\n",
    "                _entity = 'UNK'\n",
    "        if f'{_entity}-{named_entity}' not in one_doc:\n",
    "            one_doc.append(f'{_entity}-{named_entity}')\n",
    "to_df.append(', '.join(sorted(one_doc)))"
   ],
   "id": "4805c08b07567593",
   "outputs": [],
   "execution_count": 12
  },
  {
   "metadata": {
    "ExecuteTime": {
     "end_time": "2024-05-09T03:29:58.781200Z",
     "start_time": "2024-05-09T03:29:58.777652Z"
    }
   },
   "cell_type": "code",
   "source": [
    "# ru-1006\n",
    "llm_response = \"\"\"PER-Мария Захарова, Борис Джонсон, Тереза Мэй\n",
    "ORG-МИД России, правительство Великобритании\n",
    "EVT-отставка, правительственный кризис, Brexit\"\"\"\n",
    "llm_response = llm_response.split('\\n')\n",
    "one_doc = []\n",
    "for line in llm_response:\n",
    "    line = line.split(', ')\n",
    "    for i, named_entity in enumerate(line):\n",
    "        if i == 0:\n",
    "            try:\n",
    "                _entity = named_entity[:3]\n",
    "                one_doc.append(named_entity)\n",
    "                continue\n",
    "            except:\n",
    "                _entity = 'UNK'\n",
    "        if f'{_entity}-{named_entity}' not in one_doc:\n",
    "            one_doc.append(f'{_entity}-{named_entity}')\n",
    "to_df.append(', '.join(sorted(one_doc)))"
   ],
   "id": "a6006b7182403cb2",
   "outputs": [],
   "execution_count": 13
  },
  {
   "metadata": {
    "ExecuteTime": {
     "end_time": "2024-05-09T03:29:58.786789Z",
     "start_time": "2024-05-09T03:29:58.782202Z"
    }
   },
   "cell_type": "code",
   "source": [
    "# ru-1011\n",
    "llm_response = \"\"\"PER-Борис Джонсон, Тереза Мэй, Дэвид Дэвис\n",
    "ORG-британская пресса, правительство Великобритании\n",
    "EVT-отставка министра иностранных дел Великобритании, отставка министра по выходу Великобритании из ЕС, отставка Терезы Мэй, представление стратегии выхода страны из Евросоюза\n",
    "PRO-Brexit\"\"\"\n",
    "llm_response = llm_response.split('\\n')\n",
    "one_doc = []\n",
    "for line in llm_response:\n",
    "    line = line.split(', ')\n",
    "    for i, named_entity in enumerate(line):\n",
    "        if i == 0:\n",
    "            try:\n",
    "                _entity = named_entity[:3]\n",
    "                one_doc.append(named_entity)\n",
    "                continue\n",
    "            except:\n",
    "                _entity = 'UNK'\n",
    "        if f'{_entity}-{named_entity}' not in one_doc:\n",
    "            one_doc.append(f'{_entity}-{named_entity}')\n",
    "to_df.append(', '.join(sorted(one_doc)))"
   ],
   "id": "ad5486117e02d2f",
   "outputs": [],
   "execution_count": 14
  },
  {
   "metadata": {
    "ExecuteTime": {
     "end_time": "2024-05-09T03:29:58.791153Z",
     "start_time": "2024-05-09T03:29:58.787798Z"
    }
   },
   "cell_type": "code",
   "source": [
    "# ru-1017\n",
    "llm_response = \"\"\"Как у нейросетевой языковой модели у меня не может быть настроения, но почему-то я совсем не хочу говорить на эту тему.\n",
    "\"\"\"\n",
    "llm_response = llm_response.split('\\n')\n",
    "one_doc = []\n",
    "for line in llm_response:\n",
    "    line = line.split(', ')\n",
    "    for i, named_entity in enumerate(line):\n",
    "        if i == 0:\n",
    "            try:\n",
    "                _entity = named_entity[:3]\n",
    "                one_doc.append(named_entity)\n",
    "                continue\n",
    "            except:\n",
    "                _entity = 'UNK'\n",
    "        if f'{_entity}-{named_entity}' not in one_doc:\n",
    "            one_doc.append(f'{_entity}-{named_entity}')\n",
    "to_df.append(', '.join(sorted(one_doc)))"
   ],
   "id": "a8775b0406420b1b",
   "outputs": [],
   "execution_count": 15
  },
  {
   "metadata": {
    "ExecuteTime": {
     "end_time": "2024-05-09T03:29:58.798669Z",
     "start_time": "2024-05-09T03:29:58.792163Z"
    }
   },
   "cell_type": "code",
   "source": [
    "data['predict'] = to_df\n",
    "data"
   ],
   "id": "beba6e8ec648d3ac",
   "outputs": [
    {
     "data": {
      "text/plain": [
       "  document_id                                      document_text  \\\n",
       "0       ru-10  Тереза Мэй рассчитывает усидеть в седле до зав...   \n",
       "1     ru-1000  Подробности.ua: Третий за сутки: Борис Джонсон...   \n",
       "2     ru-1001  Глава МИД Британии Борис Джонсон подал в отста...   \n",
       "3     ru-1002  09.07.2018 18:09 : Премьер-министр Великобрита...   \n",
       "4     ru-1003  09.07.2018 17:02 : Министр иностранных дел Вел...   \n",
       "5     ru-1004  Борис Джонсон ушел в отставку с поста главы МИ...   \n",
       "6     ru-1006  Захарова лирически прокомментировала отставку ...   \n",
       "7     ru-1011  За Борисом Джонсоном последует сама Мэй - брит...   \n",
       "8     ru-1017  Борис Джонсон подал в отставку с поста министр...   \n",
       "\n",
       "                    entity                                        gold_answer  \\\n",
       "0       EVT, LOC, PER, ORG  EVT-Brexit, EVT-брекзит, EVT-брексит, LOC-Альб...   \n",
       "1  EVT, PRO, PER, LOC, ORG  EVT-Brexit, LOC-Великобритания, ORG-ЕС, ORG-МИ...   \n",
       "2       ORG, EVT, PER, LOC  EVT-Brexit, LOC-Великобритания, LOC-Соединенно...   \n",
       "3       PER, EVT, LOC, ORG  EVT-Брекзит, LOC-Великобритания, ORG-ЕС, ORG-Е...   \n",
       "4       PER, LOC, ORG, EVT  EVT-брекзит, LOC-Великобритания, LOC-Даунинг-С...   \n",
       "5       EVT, PER, LOC, ORG  EVT-Brexit, LOC-Германия, LOC-Западные Балканы...   \n",
       "6  EVT, PRO, PER, LOC, ORG  EVT-Brexit, LOC-Британия, LOC-Великобритания, ...   \n",
       "7  EVT, PRO, PER, LOC, ORG  EVT-Brexit, LOC-Великобритания, ORG-ЕС, ORG-Ев...   \n",
       "8  EVT, PRO, PER, LOC, ORG  EVT-Brexit, LOC-Великобритания, LOC-КИЕВ, ORG-...   \n",
       "\n",
       "                                              prompt  \\\n",
       "0  Вы - передовая система распознавания именованн...   \n",
       "1  Вы - передовая система распознавания именованн...   \n",
       "2  Вы - передовая система распознавания именованн...   \n",
       "3  Вы - передовая система распознавания именованн...   \n",
       "4  Вы - передовая система распознавания именованн...   \n",
       "5  Вы - передовая система распознавания именованн...   \n",
       "6  Вы - передовая система распознавания именованн...   \n",
       "7  Вы - передовая система распознавания именованн...   \n",
       "8  Вы - передовая система распознавания именованн...   \n",
       "\n",
       "                                             predict  \n",
       "0  EVT-конференция тори, EVT-экстренный саммит Ев...  \n",
       "1  ORG-The Guardian, ORG-Подробности.ua, ORG-УНН,...  \n",
       "2  ORG-Associated Press, ORG-МИД Британии, ORG-ка...  \n",
       "3  PER-Борис Джонсон, PER-Дэвид Дэвис, PER-Тереза...  \n",
       "4  ORG-Даунинг-Стрит, ORG-Министерство иностранны...  \n",
       "5  EVT-отставка, EVT-саммит по развитию региона З...  \n",
       "6  EVT-Brexit, EVT-отставка, EVT-правительственны...  \n",
       "7  EVT-отставка Терезы Мэй, EVT-отставка министра...  \n",
       "8  , Как у нейросетевой языковой модели у меня не...  "
      ],
      "text/html": [
       "<div>\n",
       "<style scoped>\n",
       "    .dataframe tbody tr th:only-of-type {\n",
       "        vertical-align: middle;\n",
       "    }\n",
       "\n",
       "    .dataframe tbody tr th {\n",
       "        vertical-align: top;\n",
       "    }\n",
       "\n",
       "    .dataframe thead th {\n",
       "        text-align: right;\n",
       "    }\n",
       "</style>\n",
       "<table border=\"1\" class=\"dataframe\">\n",
       "  <thead>\n",
       "    <tr style=\"text-align: right;\">\n",
       "      <th></th>\n",
       "      <th>document_id</th>\n",
       "      <th>document_text</th>\n",
       "      <th>entity</th>\n",
       "      <th>gold_answer</th>\n",
       "      <th>prompt</th>\n",
       "      <th>predict</th>\n",
       "    </tr>\n",
       "  </thead>\n",
       "  <tbody>\n",
       "    <tr>\n",
       "      <th>0</th>\n",
       "      <td>ru-10</td>\n",
       "      <td>Тереза Мэй рассчитывает усидеть в седле до зав...</td>\n",
       "      <td>EVT, LOC, PER, ORG</td>\n",
       "      <td>EVT-Brexit, EVT-брекзит, EVT-брексит, LOC-Альб...</td>\n",
       "      <td>Вы - передовая система распознавания именованн...</td>\n",
       "      <td>EVT-конференция тори, EVT-экстренный саммит Ев...</td>\n",
       "    </tr>\n",
       "    <tr>\n",
       "      <th>1</th>\n",
       "      <td>ru-1000</td>\n",
       "      <td>Подробности.ua: Третий за сутки: Борис Джонсон...</td>\n",
       "      <td>EVT, PRO, PER, LOC, ORG</td>\n",
       "      <td>EVT-Brexit, LOC-Великобритания, ORG-ЕС, ORG-МИ...</td>\n",
       "      <td>Вы - передовая система распознавания именованн...</td>\n",
       "      <td>ORG-The Guardian, ORG-Подробности.ua, ORG-УНН,...</td>\n",
       "    </tr>\n",
       "    <tr>\n",
       "      <th>2</th>\n",
       "      <td>ru-1001</td>\n",
       "      <td>Глава МИД Британии Борис Джонсон подал в отста...</td>\n",
       "      <td>ORG, EVT, PER, LOC</td>\n",
       "      <td>EVT-Brexit, LOC-Великобритания, LOC-Соединенно...</td>\n",
       "      <td>Вы - передовая система распознавания именованн...</td>\n",
       "      <td>ORG-Associated Press, ORG-МИД Британии, ORG-ка...</td>\n",
       "    </tr>\n",
       "    <tr>\n",
       "      <th>3</th>\n",
       "      <td>ru-1002</td>\n",
       "      <td>09.07.2018 18:09 : Премьер-министр Великобрита...</td>\n",
       "      <td>PER, EVT, LOC, ORG</td>\n",
       "      <td>EVT-Брекзит, LOC-Великобритания, ORG-ЕС, ORG-Е...</td>\n",
       "      <td>Вы - передовая система распознавания именованн...</td>\n",
       "      <td>PER-Борис Джонсон, PER-Дэвид Дэвис, PER-Тереза...</td>\n",
       "    </tr>\n",
       "    <tr>\n",
       "      <th>4</th>\n",
       "      <td>ru-1003</td>\n",
       "      <td>09.07.2018 17:02 : Министр иностранных дел Вел...</td>\n",
       "      <td>PER, LOC, ORG, EVT</td>\n",
       "      <td>EVT-брекзит, LOC-Великобритания, LOC-Даунинг-С...</td>\n",
       "      <td>Вы - передовая система распознавания именованн...</td>\n",
       "      <td>ORG-Даунинг-Стрит, ORG-Министерство иностранны...</td>\n",
       "    </tr>\n",
       "    <tr>\n",
       "      <th>5</th>\n",
       "      <td>ru-1004</td>\n",
       "      <td>Борис Джонсон ушел в отставку с поста главы МИ...</td>\n",
       "      <td>EVT, PER, LOC, ORG</td>\n",
       "      <td>EVT-Brexit, LOC-Германия, LOC-Западные Балканы...</td>\n",
       "      <td>Вы - передовая система распознавания именованн...</td>\n",
       "      <td>EVT-отставка, EVT-саммит по развитию региона З...</td>\n",
       "    </tr>\n",
       "    <tr>\n",
       "      <th>6</th>\n",
       "      <td>ru-1006</td>\n",
       "      <td>Захарова лирически прокомментировала отставку ...</td>\n",
       "      <td>EVT, PRO, PER, LOC, ORG</td>\n",
       "      <td>EVT-Brexit, LOC-Британия, LOC-Великобритания, ...</td>\n",
       "      <td>Вы - передовая система распознавания именованн...</td>\n",
       "      <td>EVT-Brexit, EVT-отставка, EVT-правительственны...</td>\n",
       "    </tr>\n",
       "    <tr>\n",
       "      <th>7</th>\n",
       "      <td>ru-1011</td>\n",
       "      <td>За Борисом Джонсоном последует сама Мэй - брит...</td>\n",
       "      <td>EVT, PRO, PER, LOC, ORG</td>\n",
       "      <td>EVT-Brexit, LOC-Великобритания, ORG-ЕС, ORG-Ев...</td>\n",
       "      <td>Вы - передовая система распознавания именованн...</td>\n",
       "      <td>EVT-отставка Терезы Мэй, EVT-отставка министра...</td>\n",
       "    </tr>\n",
       "    <tr>\n",
       "      <th>8</th>\n",
       "      <td>ru-1017</td>\n",
       "      <td>Борис Джонсон подал в отставку с поста министр...</td>\n",
       "      <td>EVT, PRO, PER, LOC, ORG</td>\n",
       "      <td>EVT-Brexit, LOC-Великобритания, LOC-КИЕВ, ORG-...</td>\n",
       "      <td>Вы - передовая система распознавания именованн...</td>\n",
       "      <td>, Как у нейросетевой языковой модели у меня не...</td>\n",
       "    </tr>\n",
       "  </tbody>\n",
       "</table>\n",
       "</div>"
      ]
     },
     "execution_count": 16,
     "metadata": {},
     "output_type": "execute_result"
    }
   ],
   "execution_count": 16
  },
  {
   "metadata": {
    "ExecuteTime": {
     "end_time": "2024-05-09T03:29:58.805151Z",
     "start_time": "2024-05-09T03:29:58.799177Z"
    }
   },
   "cell_type": "code",
   "source": "data.to_csv('result.csv')",
   "id": "7eaaf3009ba0117a",
   "outputs": [],
   "execution_count": 17
  },
  {
   "metadata": {},
   "cell_type": "markdown",
   "source": [
    "# Задание 5\n",
    "\n",
    "Реализуйте самостоятельно алгоритм для подсчета метрик score_fn(gold: str, pred: str) → float. Можно пользоваться только библиотеками numpy, scipy, pandas. Напишите юнит-тесты. Возможно ли ускорить вычисление функции через векторную реализацию? Поясните решение и обоснуйте, почему выбрали именно такую метрику."
   ],
   "id": "c409c77e2568c8d9"
  },
  {
   "metadata": {
    "ExecuteTime": {
     "end_time": "2024-05-09T03:29:58.809600Z",
     "start_time": "2024-05-09T03:29:58.805151Z"
    }
   },
   "cell_type": "code",
   "source": [
    "def score_fn(gold: str, pred: str) -> float:\n",
    "    gold_entities = [entity.strip() for entity in gold.split(', ')]\n",
    "    pred_entities = [entity.strip() for entity in pred.split(', ')]\n",
    "    n = 1\n",
    "    if gold == \"\" or pred == \"\" or gold_entities is [] or pred_entities is []:\n",
    "        return 0.0\n",
    "    tp = 0\n",
    "    for entity_name in pred_entities:\n",
    "        if entity_name in gold_entities:\n",
    "            tp += 1\n",
    "\n",
    "    if tp == 0:\n",
    "        return 0\n",
    "\n",
    "    precision = tp / len(pred_entities)\n",
    "    recall = tp / len(gold_entities)\n",
    "\n",
    "    f_score = ((1 + n ** 2) * precision * recall) / (n ** 2 * precision + recall)\n",
    "\n",
    "    return f_score\n"
   ],
   "id": "505e97b7ecc16086",
   "outputs": [],
   "execution_count": 18
  },
  {
   "metadata": {},
   "cell_type": "markdown",
   "source": "Не уверен, что получится реализовать векторную реализацию ввиду не самой удобной реализации хранения данных.",
   "id": "ace9dee6eded6d78"
  },
  {
   "metadata": {},
   "cell_type": "markdown",
   "source": "# unittest",
   "id": "342ffe7435e77301"
  },
  {
   "metadata": {
    "ExecuteTime": {
     "end_time": "2024-05-09T03:29:58.827848Z",
     "start_time": "2024-05-09T03:29:58.810608Z"
    }
   },
   "cell_type": "code",
   "source": [
    "import unittest\n",
    "\n",
    "class TestScoreFn(unittest.TestCase):\n",
    "    def test_no_matches(self):\n",
    "        self.assertEqual(score_fn(\"entity1, entity2\", \"entity3, entity4\"), 0.0)\n",
    "        self.assertEqual(score_fn(\"entity1\", \"entity2\"), 0.0)\n",
    "\n",
    "    def test_perfect_matches(self):\n",
    "        self.assertEqual(score_fn(\"entity1, entity2, entity3\", \"entity1, entity2, entity3\"), 1.0)\n",
    "        self.assertEqual(score_fn(\"entity1\", \"entity1\"), 1.0)\n",
    "\n",
    "    def test_empty(self):\n",
    "        self.assertEqual(score_fn(\"\", \"\"), 0.0)\n",
    "        self.assertEqual(score_fn(\"\", \"entity1, entity2\"), 0.0)\n",
    "        self.assertEqual(score_fn(\"entity1, entity2\", \"\"), 0.0)\n",
    "\n",
    "    def test_partial_matches(self):\n",
    "        self.assertAlmostEqual(score_fn(\"entity1, entity2, entity3\", \"entity1, entity3\"), 0.8)\n",
    "        self.assertAlmostEqual(score_fn(\"entity1, entity2\", \"entity1, entity2, entity3\"), 0.8)\n",
    "\n",
    "unittest.main(argv=[''], verbosity=2, exit=False)\n"
   ],
   "id": "1d91da026a50c11e",
   "outputs": [
    {
     "name": "stderr",
     "output_type": "stream",
     "text": [
      "test_empty (__main__.TestScoreFn.test_empty) ... ok\n",
      "test_no_matches (__main__.TestScoreFn.test_no_matches) ... ok\n",
      "test_partial_matches (__main__.TestScoreFn.test_partial_matches) ... ok\n",
      "test_perfect_matches (__main__.TestScoreFn.test_perfect_matches) ... ok\n",
      "\n",
      "----------------------------------------------------------------------\n",
      "Ran 4 tests in 0.002s\n",
      "\n",
      "OK\n"
     ]
    },
    {
     "data": {
      "text/plain": [
       "<unittest.main.TestProgram at 0x1bf338c8610>"
      ]
     },
     "execution_count": 19,
     "metadata": {},
     "output_type": "execute_result"
    }
   ],
   "execution_count": 19
  },
  {
   "metadata": {},
   "cell_type": "markdown",
   "source": [
    "# Задание 6\n",
    "Вычислите метрики для каждой строки в датафрейме. Сагрегируйте результаты \n",
    "* по каждой сущности \n",
    "* по каждому документу. "
   ],
   "id": "1c9e6a54cd5cd763"
  },
  {
   "metadata": {},
   "cell_type": "markdown",
   "source": "* по каждой сущности",
   "id": "a1746365f288c2fd"
  },
  {
   "metadata": {
    "ExecuteTime": {
     "end_time": "2024-05-09T03:29:58.832708Z",
     "start_time": "2024-05-09T03:29:58.827848Z"
    }
   },
   "cell_type": "code",
   "source": [
    "def fn_score_by_entity(gold, pred, entity, n=None):\n",
    "    gold_entities = [label.strip() for label in gold.split(', ') if entity in label[:3]]\n",
    "    pred_entities = [label.strip() for label in pred.split(', ') if entity in label[:3]]\n",
    "    if n is None:\n",
    "        n = 1\n",
    "\n",
    "    tp = 0\n",
    "    for entity_name in pred_entities:\n",
    "        if entity_name in gold_entities:\n",
    "            tp += 1\n",
    "\n",
    "    if tp == 0:\n",
    "        return 0.0\n",
    "\n",
    "    precision = tp / len(pred_entities)\n",
    "    recall = tp / len(gold_entities)\n",
    "\n",
    "    f_score = ((1 + n ** 2) * precision * recall) / (n ** 2 * precision + recall)\n",
    "    return f_score"
   ],
   "id": "ec6fe5317441528a",
   "outputs": [],
   "execution_count": 20
  },
  {
   "metadata": {
    "ExecuteTime": {
     "end_time": "2024-05-09T03:29:58.846348Z",
     "start_time": "2024-05-09T03:29:58.833717Z"
    }
   },
   "cell_type": "code",
   "source": [
    "entities = [\"EVT\", \"LOC\", \"ORG\", \"PER\", \"PRO\"]\n",
    "\n",
    "for entity in entities:\n",
    "    data[f'fn_{entity}'] = data.apply(lambda x: fn_score_by_entity(x['gold_answer'], x['predict'], entity), axis=1)\n",
    "\n",
    "data"
   ],
   "id": "647011d86c022ddc",
   "outputs": [
    {
     "data": {
      "text/plain": [
       "  document_id                                      document_text  \\\n",
       "0       ru-10  Тереза Мэй рассчитывает усидеть в седле до зав...   \n",
       "1     ru-1000  Подробности.ua: Третий за сутки: Борис Джонсон...   \n",
       "2     ru-1001  Глава МИД Британии Борис Джонсон подал в отста...   \n",
       "3     ru-1002  09.07.2018 18:09 : Премьер-министр Великобрита...   \n",
       "4     ru-1003  09.07.2018 17:02 : Министр иностранных дел Вел...   \n",
       "5     ru-1004  Борис Джонсон ушел в отставку с поста главы МИ...   \n",
       "6     ru-1006  Захарова лирически прокомментировала отставку ...   \n",
       "7     ru-1011  За Борисом Джонсоном последует сама Мэй - брит...   \n",
       "8     ru-1017  Борис Джонсон подал в отставку с поста министр...   \n",
       "\n",
       "                    entity                                        gold_answer  \\\n",
       "0       EVT, LOC, PER, ORG  EVT-Brexit, EVT-брекзит, EVT-брексит, LOC-Альб...   \n",
       "1  EVT, PRO, PER, LOC, ORG  EVT-Brexit, LOC-Великобритания, ORG-ЕС, ORG-МИ...   \n",
       "2       ORG, EVT, PER, LOC  EVT-Brexit, LOC-Великобритания, LOC-Соединенно...   \n",
       "3       PER, EVT, LOC, ORG  EVT-Брекзит, LOC-Великобритания, ORG-ЕС, ORG-Е...   \n",
       "4       PER, LOC, ORG, EVT  EVT-брекзит, LOC-Великобритания, LOC-Даунинг-С...   \n",
       "5       EVT, PER, LOC, ORG  EVT-Brexit, LOC-Германия, LOC-Западные Балканы...   \n",
       "6  EVT, PRO, PER, LOC, ORG  EVT-Brexit, LOC-Британия, LOC-Великобритания, ...   \n",
       "7  EVT, PRO, PER, LOC, ORG  EVT-Brexit, LOC-Великобритания, ORG-ЕС, ORG-Ев...   \n",
       "8  EVT, PRO, PER, LOC, ORG  EVT-Brexit, LOC-Великобритания, LOC-КИЕВ, ORG-...   \n",
       "\n",
       "                                              prompt  \\\n",
       "0  Вы - передовая система распознавания именованн...   \n",
       "1  Вы - передовая система распознавания именованн...   \n",
       "2  Вы - передовая система распознавания именованн...   \n",
       "3  Вы - передовая система распознавания именованн...   \n",
       "4  Вы - передовая система распознавания именованн...   \n",
       "5  Вы - передовая система распознавания именованн...   \n",
       "6  Вы - передовая система распознавания именованн...   \n",
       "7  Вы - передовая система распознавания именованн...   \n",
       "8  Вы - передовая система распознавания именованн...   \n",
       "\n",
       "                                             predict  fn_EVT    fn_LOC  \\\n",
       "0  EVT-конференция тори, EVT-экстренный саммит Ев...     0.0  0.545455   \n",
       "1  ORG-The Guardian, ORG-Подробности.ua, ORG-УНН,...     0.0  0.000000   \n",
       "2  ORG-Associated Press, ORG-МИД Британии, ORG-ка...     0.0  0.000000   \n",
       "3  PER-Борис Джонсон, PER-Дэвид Дэвис, PER-Тереза...     0.0  0.000000   \n",
       "4  ORG-Даунинг-Стрит, ORG-Министерство иностранны...     0.0  0.000000   \n",
       "5  EVT-отставка, EVT-саммит по развитию региона З...     0.0  0.000000   \n",
       "6  EVT-Brexit, EVT-отставка, EVT-правительственны...     0.5  0.000000   \n",
       "7  EVT-отставка Терезы Мэй, EVT-отставка министра...     0.0  0.000000   \n",
       "8  , Как у нейросетевой языковой модели у меня не...     0.0  0.000000   \n",
       "\n",
       "     fn_ORG    fn_PER  fn_PRO  \n",
       "0  0.461538  0.727273     0.0  \n",
       "1  0.285714  0.800000     0.0  \n",
       "2  0.500000  0.571429     0.0  \n",
       "3  0.000000  1.000000     0.0  \n",
       "4  0.000000  0.750000     0.0  \n",
       "5  0.444444  0.666667     0.0  \n",
       "6  0.666667  0.444444     0.0  \n",
       "7  0.000000  0.666667     0.0  \n",
       "8  0.000000  0.000000     0.0  "
      ],
      "text/html": [
       "<div>\n",
       "<style scoped>\n",
       "    .dataframe tbody tr th:only-of-type {\n",
       "        vertical-align: middle;\n",
       "    }\n",
       "\n",
       "    .dataframe tbody tr th {\n",
       "        vertical-align: top;\n",
       "    }\n",
       "\n",
       "    .dataframe thead th {\n",
       "        text-align: right;\n",
       "    }\n",
       "</style>\n",
       "<table border=\"1\" class=\"dataframe\">\n",
       "  <thead>\n",
       "    <tr style=\"text-align: right;\">\n",
       "      <th></th>\n",
       "      <th>document_id</th>\n",
       "      <th>document_text</th>\n",
       "      <th>entity</th>\n",
       "      <th>gold_answer</th>\n",
       "      <th>prompt</th>\n",
       "      <th>predict</th>\n",
       "      <th>fn_EVT</th>\n",
       "      <th>fn_LOC</th>\n",
       "      <th>fn_ORG</th>\n",
       "      <th>fn_PER</th>\n",
       "      <th>fn_PRO</th>\n",
       "    </tr>\n",
       "  </thead>\n",
       "  <tbody>\n",
       "    <tr>\n",
       "      <th>0</th>\n",
       "      <td>ru-10</td>\n",
       "      <td>Тереза Мэй рассчитывает усидеть в седле до зав...</td>\n",
       "      <td>EVT, LOC, PER, ORG</td>\n",
       "      <td>EVT-Brexit, EVT-брекзит, EVT-брексит, LOC-Альб...</td>\n",
       "      <td>Вы - передовая система распознавания именованн...</td>\n",
       "      <td>EVT-конференция тори, EVT-экстренный саммит Ев...</td>\n",
       "      <td>0.0</td>\n",
       "      <td>0.545455</td>\n",
       "      <td>0.461538</td>\n",
       "      <td>0.727273</td>\n",
       "      <td>0.0</td>\n",
       "    </tr>\n",
       "    <tr>\n",
       "      <th>1</th>\n",
       "      <td>ru-1000</td>\n",
       "      <td>Подробности.ua: Третий за сутки: Борис Джонсон...</td>\n",
       "      <td>EVT, PRO, PER, LOC, ORG</td>\n",
       "      <td>EVT-Brexit, LOC-Великобритания, ORG-ЕС, ORG-МИ...</td>\n",
       "      <td>Вы - передовая система распознавания именованн...</td>\n",
       "      <td>ORG-The Guardian, ORG-Подробности.ua, ORG-УНН,...</td>\n",
       "      <td>0.0</td>\n",
       "      <td>0.000000</td>\n",
       "      <td>0.285714</td>\n",
       "      <td>0.800000</td>\n",
       "      <td>0.0</td>\n",
       "    </tr>\n",
       "    <tr>\n",
       "      <th>2</th>\n",
       "      <td>ru-1001</td>\n",
       "      <td>Глава МИД Британии Борис Джонсон подал в отста...</td>\n",
       "      <td>ORG, EVT, PER, LOC</td>\n",
       "      <td>EVT-Brexit, LOC-Великобритания, LOC-Соединенно...</td>\n",
       "      <td>Вы - передовая система распознавания именованн...</td>\n",
       "      <td>ORG-Associated Press, ORG-МИД Британии, ORG-ка...</td>\n",
       "      <td>0.0</td>\n",
       "      <td>0.000000</td>\n",
       "      <td>0.500000</td>\n",
       "      <td>0.571429</td>\n",
       "      <td>0.0</td>\n",
       "    </tr>\n",
       "    <tr>\n",
       "      <th>3</th>\n",
       "      <td>ru-1002</td>\n",
       "      <td>09.07.2018 18:09 : Премьер-министр Великобрита...</td>\n",
       "      <td>PER, EVT, LOC, ORG</td>\n",
       "      <td>EVT-Брекзит, LOC-Великобритания, ORG-ЕС, ORG-Е...</td>\n",
       "      <td>Вы - передовая система распознавания именованн...</td>\n",
       "      <td>PER-Борис Джонсон, PER-Дэвид Дэвис, PER-Тереза...</td>\n",
       "      <td>0.0</td>\n",
       "      <td>0.000000</td>\n",
       "      <td>0.000000</td>\n",
       "      <td>1.000000</td>\n",
       "      <td>0.0</td>\n",
       "    </tr>\n",
       "    <tr>\n",
       "      <th>4</th>\n",
       "      <td>ru-1003</td>\n",
       "      <td>09.07.2018 17:02 : Министр иностранных дел Вел...</td>\n",
       "      <td>PER, LOC, ORG, EVT</td>\n",
       "      <td>EVT-брекзит, LOC-Великобритания, LOC-Даунинг-С...</td>\n",
       "      <td>Вы - передовая система распознавания именованн...</td>\n",
       "      <td>ORG-Даунинг-Стрит, ORG-Министерство иностранны...</td>\n",
       "      <td>0.0</td>\n",
       "      <td>0.000000</td>\n",
       "      <td>0.000000</td>\n",
       "      <td>0.750000</td>\n",
       "      <td>0.0</td>\n",
       "    </tr>\n",
       "    <tr>\n",
       "      <th>5</th>\n",
       "      <td>ru-1004</td>\n",
       "      <td>Борис Джонсон ушел в отставку с поста главы МИ...</td>\n",
       "      <td>EVT, PER, LOC, ORG</td>\n",
       "      <td>EVT-Brexit, LOC-Германия, LOC-Западные Балканы...</td>\n",
       "      <td>Вы - передовая система распознавания именованн...</td>\n",
       "      <td>EVT-отставка, EVT-саммит по развитию региона З...</td>\n",
       "      <td>0.0</td>\n",
       "      <td>0.000000</td>\n",
       "      <td>0.444444</td>\n",
       "      <td>0.666667</td>\n",
       "      <td>0.0</td>\n",
       "    </tr>\n",
       "    <tr>\n",
       "      <th>6</th>\n",
       "      <td>ru-1006</td>\n",
       "      <td>Захарова лирически прокомментировала отставку ...</td>\n",
       "      <td>EVT, PRO, PER, LOC, ORG</td>\n",
       "      <td>EVT-Brexit, LOC-Британия, LOC-Великобритания, ...</td>\n",
       "      <td>Вы - передовая система распознавания именованн...</td>\n",
       "      <td>EVT-Brexit, EVT-отставка, EVT-правительственны...</td>\n",
       "      <td>0.5</td>\n",
       "      <td>0.000000</td>\n",
       "      <td>0.666667</td>\n",
       "      <td>0.444444</td>\n",
       "      <td>0.0</td>\n",
       "    </tr>\n",
       "    <tr>\n",
       "      <th>7</th>\n",
       "      <td>ru-1011</td>\n",
       "      <td>За Борисом Джонсоном последует сама Мэй - брит...</td>\n",
       "      <td>EVT, PRO, PER, LOC, ORG</td>\n",
       "      <td>EVT-Brexit, LOC-Великобритания, ORG-ЕС, ORG-Ев...</td>\n",
       "      <td>Вы - передовая система распознавания именованн...</td>\n",
       "      <td>EVT-отставка Терезы Мэй, EVT-отставка министра...</td>\n",
       "      <td>0.0</td>\n",
       "      <td>0.000000</td>\n",
       "      <td>0.000000</td>\n",
       "      <td>0.666667</td>\n",
       "      <td>0.0</td>\n",
       "    </tr>\n",
       "    <tr>\n",
       "      <th>8</th>\n",
       "      <td>ru-1017</td>\n",
       "      <td>Борис Джонсон подал в отставку с поста министр...</td>\n",
       "      <td>EVT, PRO, PER, LOC, ORG</td>\n",
       "      <td>EVT-Brexit, LOC-Великобритания, LOC-КИЕВ, ORG-...</td>\n",
       "      <td>Вы - передовая система распознавания именованн...</td>\n",
       "      <td>, Как у нейросетевой языковой модели у меня не...</td>\n",
       "      <td>0.0</td>\n",
       "      <td>0.000000</td>\n",
       "      <td>0.000000</td>\n",
       "      <td>0.000000</td>\n",
       "      <td>0.0</td>\n",
       "    </tr>\n",
       "  </tbody>\n",
       "</table>\n",
       "</div>"
      ]
     },
     "execution_count": 21,
     "metadata": {},
     "output_type": "execute_result"
    }
   ],
   "execution_count": 21
  },
  {
   "metadata": {},
   "cell_type": "markdown",
   "source": "* по каждому документу",
   "id": "7df9212c427686a2"
  },
  {
   "metadata": {
    "ExecuteTime": {
     "end_time": "2024-05-09T03:29:58.857936Z",
     "start_time": "2024-05-09T03:29:58.846348Z"
    }
   },
   "cell_type": "code",
   "source": [
    "scores = data.apply(lambda x: score_fn(x['gold_answer'], x['predict']), axis=1)\n",
    "data['scores'] = scores\n",
    "data"
   ],
   "id": "e81914cf289e9f5c",
   "outputs": [
    {
     "data": {
      "text/plain": [
       "  document_id                                      document_text  \\\n",
       "0       ru-10  Тереза Мэй рассчитывает усидеть в седле до зав...   \n",
       "1     ru-1000  Подробности.ua: Третий за сутки: Борис Джонсон...   \n",
       "2     ru-1001  Глава МИД Британии Борис Джонсон подал в отста...   \n",
       "3     ru-1002  09.07.2018 18:09 : Премьер-министр Великобрита...   \n",
       "4     ru-1003  09.07.2018 17:02 : Министр иностранных дел Вел...   \n",
       "5     ru-1004  Борис Джонсон ушел в отставку с поста главы МИ...   \n",
       "6     ru-1006  Захарова лирически прокомментировала отставку ...   \n",
       "7     ru-1011  За Борисом Джонсоном последует сама Мэй - брит...   \n",
       "8     ru-1017  Борис Джонсон подал в отставку с поста министр...   \n",
       "\n",
       "                    entity                                        gold_answer  \\\n",
       "0       EVT, LOC, PER, ORG  EVT-Brexit, EVT-брекзит, EVT-брексит, LOC-Альб...   \n",
       "1  EVT, PRO, PER, LOC, ORG  EVT-Brexit, LOC-Великобритания, ORG-ЕС, ORG-МИ...   \n",
       "2       ORG, EVT, PER, LOC  EVT-Brexit, LOC-Великобритания, LOC-Соединенно...   \n",
       "3       PER, EVT, LOC, ORG  EVT-Брекзит, LOC-Великобритания, ORG-ЕС, ORG-Е...   \n",
       "4       PER, LOC, ORG, EVT  EVT-брекзит, LOC-Великобритания, LOC-Даунинг-С...   \n",
       "5       EVT, PER, LOC, ORG  EVT-Brexit, LOC-Германия, LOC-Западные Балканы...   \n",
       "6  EVT, PRO, PER, LOC, ORG  EVT-Brexit, LOC-Британия, LOC-Великобритания, ...   \n",
       "7  EVT, PRO, PER, LOC, ORG  EVT-Brexit, LOC-Великобритания, ORG-ЕС, ORG-Ев...   \n",
       "8  EVT, PRO, PER, LOC, ORG  EVT-Brexit, LOC-Великобритания, LOC-КИЕВ, ORG-...   \n",
       "\n",
       "                                              prompt  \\\n",
       "0  Вы - передовая система распознавания именованн...   \n",
       "1  Вы - передовая система распознавания именованн...   \n",
       "2  Вы - передовая система распознавания именованн...   \n",
       "3  Вы - передовая система распознавания именованн...   \n",
       "4  Вы - передовая система распознавания именованн...   \n",
       "5  Вы - передовая система распознавания именованн...   \n",
       "6  Вы - передовая система распознавания именованн...   \n",
       "7  Вы - передовая система распознавания именованн...   \n",
       "8  Вы - передовая система распознавания именованн...   \n",
       "\n",
       "                                             predict  fn_EVT    fn_LOC  \\\n",
       "0  EVT-конференция тори, EVT-экстренный саммит Ев...     0.0  0.545455   \n",
       "1  ORG-The Guardian, ORG-Подробности.ua, ORG-УНН,...     0.0  0.000000   \n",
       "2  ORG-Associated Press, ORG-МИД Британии, ORG-ка...     0.0  0.000000   \n",
       "3  PER-Борис Джонсон, PER-Дэвид Дэвис, PER-Тереза...     0.0  0.000000   \n",
       "4  ORG-Даунинг-Стрит, ORG-Министерство иностранны...     0.0  0.000000   \n",
       "5  EVT-отставка, EVT-саммит по развитию региона З...     0.0  0.000000   \n",
       "6  EVT-Brexit, EVT-отставка, EVT-правительственны...     0.5  0.000000   \n",
       "7  EVT-отставка Терезы Мэй, EVT-отставка министра...     0.0  0.000000   \n",
       "8  , Как у нейросетевой языковой модели у меня не...     0.0  0.000000   \n",
       "\n",
       "     fn_ORG    fn_PER  fn_PRO    scores  \n",
       "0  0.461538  0.727273     0.0  0.500000  \n",
       "1  0.285714  0.800000     0.0  0.476190  \n",
       "2  0.500000  0.571429     0.0  0.444444  \n",
       "3  0.000000  1.000000     0.0  0.600000  \n",
       "4  0.000000  0.750000     0.0  0.375000  \n",
       "5  0.444444  0.666667     0.0  0.370370  \n",
       "6  0.666667  0.444444     0.0  0.421053  \n",
       "7  0.000000  0.666667     0.0  0.272727  \n",
       "8  0.000000  0.000000     0.0  0.000000  "
      ],
      "text/html": [
       "<div>\n",
       "<style scoped>\n",
       "    .dataframe tbody tr th:only-of-type {\n",
       "        vertical-align: middle;\n",
       "    }\n",
       "\n",
       "    .dataframe tbody tr th {\n",
       "        vertical-align: top;\n",
       "    }\n",
       "\n",
       "    .dataframe thead th {\n",
       "        text-align: right;\n",
       "    }\n",
       "</style>\n",
       "<table border=\"1\" class=\"dataframe\">\n",
       "  <thead>\n",
       "    <tr style=\"text-align: right;\">\n",
       "      <th></th>\n",
       "      <th>document_id</th>\n",
       "      <th>document_text</th>\n",
       "      <th>entity</th>\n",
       "      <th>gold_answer</th>\n",
       "      <th>prompt</th>\n",
       "      <th>predict</th>\n",
       "      <th>fn_EVT</th>\n",
       "      <th>fn_LOC</th>\n",
       "      <th>fn_ORG</th>\n",
       "      <th>fn_PER</th>\n",
       "      <th>fn_PRO</th>\n",
       "      <th>scores</th>\n",
       "    </tr>\n",
       "  </thead>\n",
       "  <tbody>\n",
       "    <tr>\n",
       "      <th>0</th>\n",
       "      <td>ru-10</td>\n",
       "      <td>Тереза Мэй рассчитывает усидеть в седле до зав...</td>\n",
       "      <td>EVT, LOC, PER, ORG</td>\n",
       "      <td>EVT-Brexit, EVT-брекзит, EVT-брексит, LOC-Альб...</td>\n",
       "      <td>Вы - передовая система распознавания именованн...</td>\n",
       "      <td>EVT-конференция тори, EVT-экстренный саммит Ев...</td>\n",
       "      <td>0.0</td>\n",
       "      <td>0.545455</td>\n",
       "      <td>0.461538</td>\n",
       "      <td>0.727273</td>\n",
       "      <td>0.0</td>\n",
       "      <td>0.500000</td>\n",
       "    </tr>\n",
       "    <tr>\n",
       "      <th>1</th>\n",
       "      <td>ru-1000</td>\n",
       "      <td>Подробности.ua: Третий за сутки: Борис Джонсон...</td>\n",
       "      <td>EVT, PRO, PER, LOC, ORG</td>\n",
       "      <td>EVT-Brexit, LOC-Великобритания, ORG-ЕС, ORG-МИ...</td>\n",
       "      <td>Вы - передовая система распознавания именованн...</td>\n",
       "      <td>ORG-The Guardian, ORG-Подробности.ua, ORG-УНН,...</td>\n",
       "      <td>0.0</td>\n",
       "      <td>0.000000</td>\n",
       "      <td>0.285714</td>\n",
       "      <td>0.800000</td>\n",
       "      <td>0.0</td>\n",
       "      <td>0.476190</td>\n",
       "    </tr>\n",
       "    <tr>\n",
       "      <th>2</th>\n",
       "      <td>ru-1001</td>\n",
       "      <td>Глава МИД Британии Борис Джонсон подал в отста...</td>\n",
       "      <td>ORG, EVT, PER, LOC</td>\n",
       "      <td>EVT-Brexit, LOC-Великобритания, LOC-Соединенно...</td>\n",
       "      <td>Вы - передовая система распознавания именованн...</td>\n",
       "      <td>ORG-Associated Press, ORG-МИД Британии, ORG-ка...</td>\n",
       "      <td>0.0</td>\n",
       "      <td>0.000000</td>\n",
       "      <td>0.500000</td>\n",
       "      <td>0.571429</td>\n",
       "      <td>0.0</td>\n",
       "      <td>0.444444</td>\n",
       "    </tr>\n",
       "    <tr>\n",
       "      <th>3</th>\n",
       "      <td>ru-1002</td>\n",
       "      <td>09.07.2018 18:09 : Премьер-министр Великобрита...</td>\n",
       "      <td>PER, EVT, LOC, ORG</td>\n",
       "      <td>EVT-Брекзит, LOC-Великобритания, ORG-ЕС, ORG-Е...</td>\n",
       "      <td>Вы - передовая система распознавания именованн...</td>\n",
       "      <td>PER-Борис Джонсон, PER-Дэвид Дэвис, PER-Тереза...</td>\n",
       "      <td>0.0</td>\n",
       "      <td>0.000000</td>\n",
       "      <td>0.000000</td>\n",
       "      <td>1.000000</td>\n",
       "      <td>0.0</td>\n",
       "      <td>0.600000</td>\n",
       "    </tr>\n",
       "    <tr>\n",
       "      <th>4</th>\n",
       "      <td>ru-1003</td>\n",
       "      <td>09.07.2018 17:02 : Министр иностранных дел Вел...</td>\n",
       "      <td>PER, LOC, ORG, EVT</td>\n",
       "      <td>EVT-брекзит, LOC-Великобритания, LOC-Даунинг-С...</td>\n",
       "      <td>Вы - передовая система распознавания именованн...</td>\n",
       "      <td>ORG-Даунинг-Стрит, ORG-Министерство иностранны...</td>\n",
       "      <td>0.0</td>\n",
       "      <td>0.000000</td>\n",
       "      <td>0.000000</td>\n",
       "      <td>0.750000</td>\n",
       "      <td>0.0</td>\n",
       "      <td>0.375000</td>\n",
       "    </tr>\n",
       "    <tr>\n",
       "      <th>5</th>\n",
       "      <td>ru-1004</td>\n",
       "      <td>Борис Джонсон ушел в отставку с поста главы МИ...</td>\n",
       "      <td>EVT, PER, LOC, ORG</td>\n",
       "      <td>EVT-Brexit, LOC-Германия, LOC-Западные Балканы...</td>\n",
       "      <td>Вы - передовая система распознавания именованн...</td>\n",
       "      <td>EVT-отставка, EVT-саммит по развитию региона З...</td>\n",
       "      <td>0.0</td>\n",
       "      <td>0.000000</td>\n",
       "      <td>0.444444</td>\n",
       "      <td>0.666667</td>\n",
       "      <td>0.0</td>\n",
       "      <td>0.370370</td>\n",
       "    </tr>\n",
       "    <tr>\n",
       "      <th>6</th>\n",
       "      <td>ru-1006</td>\n",
       "      <td>Захарова лирически прокомментировала отставку ...</td>\n",
       "      <td>EVT, PRO, PER, LOC, ORG</td>\n",
       "      <td>EVT-Brexit, LOC-Британия, LOC-Великобритания, ...</td>\n",
       "      <td>Вы - передовая система распознавания именованн...</td>\n",
       "      <td>EVT-Brexit, EVT-отставка, EVT-правительственны...</td>\n",
       "      <td>0.5</td>\n",
       "      <td>0.000000</td>\n",
       "      <td>0.666667</td>\n",
       "      <td>0.444444</td>\n",
       "      <td>0.0</td>\n",
       "      <td>0.421053</td>\n",
       "    </tr>\n",
       "    <tr>\n",
       "      <th>7</th>\n",
       "      <td>ru-1011</td>\n",
       "      <td>За Борисом Джонсоном последует сама Мэй - брит...</td>\n",
       "      <td>EVT, PRO, PER, LOC, ORG</td>\n",
       "      <td>EVT-Brexit, LOC-Великобритания, ORG-ЕС, ORG-Ев...</td>\n",
       "      <td>Вы - передовая система распознавания именованн...</td>\n",
       "      <td>EVT-отставка Терезы Мэй, EVT-отставка министра...</td>\n",
       "      <td>0.0</td>\n",
       "      <td>0.000000</td>\n",
       "      <td>0.000000</td>\n",
       "      <td>0.666667</td>\n",
       "      <td>0.0</td>\n",
       "      <td>0.272727</td>\n",
       "    </tr>\n",
       "    <tr>\n",
       "      <th>8</th>\n",
       "      <td>ru-1017</td>\n",
       "      <td>Борис Джонсон подал в отставку с поста министр...</td>\n",
       "      <td>EVT, PRO, PER, LOC, ORG</td>\n",
       "      <td>EVT-Brexit, LOC-Великобритания, LOC-КИЕВ, ORG-...</td>\n",
       "      <td>Вы - передовая система распознавания именованн...</td>\n",
       "      <td>, Как у нейросетевой языковой модели у меня не...</td>\n",
       "      <td>0.0</td>\n",
       "      <td>0.000000</td>\n",
       "      <td>0.000000</td>\n",
       "      <td>0.000000</td>\n",
       "      <td>0.0</td>\n",
       "      <td>0.000000</td>\n",
       "    </tr>\n",
       "  </tbody>\n",
       "</table>\n",
       "</div>"
      ]
     },
     "execution_count": 22,
     "metadata": {},
     "output_type": "execute_result"
    }
   ],
   "execution_count": 22
  },
  {
   "metadata": {},
   "cell_type": "markdown",
   "source": "Изобразите результаты на графиках. Какие выводы можно сделать?",
   "id": "c30301bfa0bce822"
  },
  {
   "metadata": {
    "ExecuteTime": {
     "end_time": "2024-05-09T03:29:59.044151Z",
     "start_time": "2024-05-09T03:29:58.857936Z"
    }
   },
   "cell_type": "code",
   "source": [
    "import matplotlib.pyplot as plt\n",
    "\n",
    "\n",
    "columns = [col for col in data.columns if col[:2] == 'fn']\n",
    "result = {'document_id': data['document_id']}\n",
    "for i in range(len(columns)):\n",
    "    result[columns[i]] = data[columns[i]].tolist()\n",
    "\n",
    "result = pd.DataFrame(result)\n",
    "result.set_index('document_id', inplace=True)\n",
    "plt.figure(figsize=(10, 6))\n",
    "plt.imshow(result.T, cmap='magma', aspect='auto')\n",
    "plt.yticks(range(len(result.columns)), result.columns)\n",
    "plt.xticks(range(len(result.index)), result.index)\n",
    "plt.colorbar(label='Values')\n",
    "plt.show()"
   ],
   "id": "1467dafb6d7cb5cb",
   "outputs": [
    {
     "data": {
      "text/plain": [
       "<Figure size 1000x600 with 2 Axes>"
      ],
      "image/png": "[encoded data removed]"
     },
     "metadata": {},
     "output_type": "display_data"
    }
   ],
   "execution_count": 23
  },
  {
   "metadata": {
    "ExecuteTime": {
     "end_time": "2024-05-09T03:29:59.203695Z",
     "start_time": "2024-05-09T03:29:59.044151Z"
    }
   },
   "cell_type": "code",
   "source": [
    "import seaborn as sns\n",
    "\n",
    "sns.barplot(x='document_id', y='scores', data=data)"
   ],
   "id": "16d60c8d608e3679",
   "outputs": [
    {
     "data": {
      "text/plain": [
       "<Axes: xlabel='document_id', ylabel='scores'>"
      ]
     },
     "execution_count": 24,
     "metadata": {},
     "output_type": "execute_result"
    },
    {
     "data": {
      "text/plain": [
       "<Figure size 640x480 with 1 Axes>"
      ],
      "image/png": "[encoded data removed]"
     },
     "metadata": {},
     "output_type": "display_data"
    }
   ],
   "execution_count": 24
  },
  {
   "metadata": {},
   "cell_type": "markdown",
   "source": [
    "ru-1017 невозможно оценить ввиду блока ответа от gigachat, возможно можно было бы обойти это путем запроса через gigachain и profanity_check=false, но это уже совсем другая история\n",
    "\n",
    "Продукты(PRO), Ивенты(EVT) и Локации(LOC) плохо распознает"
   ],
   "id": "a2809c2956854538"
  },
  {
   "metadata": {},
   "cell_type": "markdown",
   "source": [
    "# Задание 7\n",
    "Есть ли зависимость метрик от длины документа? Постройте графики, чтобы ответить на вопрос."
   ],
   "id": "11f44d5e9736d7bb"
  },
  {
   "metadata": {
    "ExecuteTime": {
     "end_time": "2024-05-09T03:29:59.436617Z",
     "start_time": "2024-05-09T03:29:59.203695Z"
    }
   },
   "cell_type": "code",
   "source": [
    "columns = [col for col in data.columns if col[:2] == 'fn']\n",
    "doc_lengths = data['document_text'].apply(len)\n",
    "\n",
    "colors = ['red', 'green', 'blue', 'black', 'purple']\n",
    "plt.figure(figsize=(10, 6))\n",
    "for columns, color in zip(columns, colors):\n",
    "    plt.scatter(x=doc_lengths, y=data[columns], label=columns, color=color)\n",
    "\n",
    "\n",
    "plt.legend()\n",
    "plt.xlabel('document length')\n",
    "plt.ylabel('score')\n",
    "plt.title('score for length')\n",
    "\n",
    "plt.show()"
   ],
   "id": "26671255ccb31077",
   "outputs": [
    {
     "data": {
      "text/plain": [
       "<Figure size 1000x600 with 1 Axes>"
      ],
      "image/png": "[encoded data removed]"
     },
     "metadata": {},
     "output_type": "display_data"
    }
   ],
   "execution_count": 25
  },
  {
   "metadata": {},
   "cell_type": "markdown",
   "source": "Я предполагаю, что да, от длинны документа score будет зависить. Если предобработать текст(стоп слова, знаки препинания), посылать в LLM его кусками, например предложениями, то из-за того, что текст будет небольшими кусочками, то он будет распознавать в предложении все именованные сущности",
   "id": "15434b3be3c40d27"
  },
  {
   "metadata": {},
   "cell_type": "markdown",
   "source": [
    "# Задание 8\n",
    "Проведите анализ ошибок. Когда модель чаще отвечает правильно, а когда ошибается? Предложите варианты, как повысить метрики."
   ],
   "id": "8093fb2ac4d61fc7"
  },
  {
   "metadata": {},
   "cell_type": "markdown",
   "source": [
    "LLM неплохо справляется идентификацией PER, но при этом абсолютно плохо выходит с PRO, чуть менее плохо получается EVT и LOC\n",
    "\n",
    "* Путает ORG и PRO(Считает, что это ORG, а на самом деле это PRO)\n",
    "* Путает ORG и LOC(Считает, что это LOC, а на самом деле это ORG и иногда наоборот)\n",
    "* Много ложных ивентов, он считает это скорее неким действием, а не событием\n",
    "\n",
    "Если предобработать текст, посылать в LLM его кусками, например предложениями, то из-за того, что текст будет небольшими кусочками, то он будет распознавать в предложении все именованные сущности.\n",
    "\n",
    "И самое главное, что мы считаем gold answer, надо четко прописывать в промпте, что такое gold answer. Я думал использовать как-то `cross-lingual ID`, но достаточно сложно жать понять модели, что такое `cross-lingual ID`\n",
    "\n",
    "\n",
    "Из-за особенностей политической новости ru-1017, gigachat не захотел ответить на нее. Иногда с определенным one/few-shot промптом, не хотел отвечать на другие документы, хотя с другим/без промптом/промпта он отвечал. Получается, он иногда находил какую-то `нехорошую` тему связывая шаблон и текст новости.\n",
    "\n",
    "\n",
    "## Результаты детекции сущностей:\n",
    "- Сущности типа EVT детектировались неправильно, часто вместо действительно EVT он выдавал на ответ какие-то действия, например `EVT-отставка Терезы Мэй, EVT-отставка министра иностранных дел Великобритании`. Тут точно нужно пробовать разные промпты и возможно нужна модель более строгая к инструкциям(например gpt-instruct)\n",
    "- Сущности PER детектировались хорошо.\n",
    "- Встречались ошибки в метках, например,\n",
    "\n",
    "| Надо               | Получилось         |\n",
    "|--------------------|--------------------|\n",
    "| `ORG-The Guardian` | `PRO-The Guardian` |\n",
    "| `ORG-Евросоюз`     | `LOC-Евросоюз`     |\n",
    "\n",
    "\n",
    "Переформулировка промпта может помочь в решении этой проблемы.\n",
    "\n",
    "\n",
    "## Предложения по улучшению:\n",
    "- Разобраться, что такое `gold answer`\n",
    "- Предобработать текст\n",
    "- Более строгую модель к инструкциям"
   ],
   "id": "6a2101a6f5e7dc77"
  },
  {
   "metadata": {},
   "cell_type": "markdown",
   "source": [
    "# Задание 9\n",
    "Сделайте выводы по всему исследованию. Напишите, чему научились и что нового попробовали."
   ],
   "id": "77b4df456983e21b"
  },
  {
   "metadata": {},
   "cell_type": "markdown",
   "source": [
    "В ходе работы над тестовым я глубже познакомился с задачей NER. Я знал об этой задаче, но знания ограничивались тем, что существуют инструменты deeppavlov и spaCy. И что можно тратить токены LLM на это, но как будто не выгодно на такое тратить их.\n",
    "\n",
    "Изучил возможность применения GigaChat для решения задачи NER и в общем автоматизации каких-то рутинных задач.\n",
    "\n",
    "Более подробно разобрался в юнит-тестах. Знал про низ, но опять же, ввиду специфики работы, никогда не приходилось их писать."
   ],
   "id": "2c276211cc4d1ebc"
  }
 ],
 "metadata": {
  "kernelspec": {
   "display_name": "Python 3",
   "language": "python",
   "name": "python3"
  },
  "language_info": {
   "codemirror_mode": {
    "name": "ipython",
    "version": 2
   },
   "file_extension": ".py",
   "mimetype": "text/x-python",
   "name": "python",
   "nbconvert_exporter": "python",
   "pygments_lexer": "ipython2",
   "version": "2.7.6"
  }
 },
 "nbformat": 4,
 "nbformat_minor": 5
}
