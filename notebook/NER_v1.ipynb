{
 "cells": [
  {
   "metadata": {},
   "cell_type": "markdown",
   "source": "# Ошибочный ноутбук, если успею сделать, то смотрите NER_v2 ",
   "id": "feb4ad4db1c0ea54"
  },
  {
   "metadata": {},
   "cell_type": "markdown",
   "source": [
    "# Задание 1\n",
    "\n",
    "Опишите задачу с точки зрения NLP. Что это за задача, какие классические методы существуют для ее решения? Как ее можно решать через LLM? Как обычно оценивают качество моделей в этой задаче?\n",
    "\n",
    "\n",
    "Это задача распознавания именных сущностей(Named entity recognition NER), задача nlp, где мы пытаемся в тексте понять, где находятся имена/номера домов/названия организаций/ и т.д.\n",
    "\n",
    "Классические методы решения NER включают:\n",
    "\n",
    "* Подходы, основанные на правилах: с помощью регулярок/шаблонов/лингвистических признаков.\n",
    "* На основе машинного обучения: Модели, например BERT, обучаются на размеченных данных, чтобы после обучения они сами могли распознавать именованные сущности.\n",
    "* Гибридные подходы: Могут сначала использоваться подходы на основе правил, а после на основе ml для уточнения.\n",
    "\n",
    "Для оценки качества можно использовать метрики, как precision, recall, f-мера\n"
   ],
   "id": "5ae6ea4f6828f359"
  },
  {
   "metadata": {},
   "cell_type": "markdown",
   "source": [
    "# Задание 2\n",
    "Реализуйте чтение датасета в pandas DataFrame с обязательными колонками \"document_id\", \"document_text\", \"entity\", \"gold_answer\". "
   ],
   "id": "3b7ffdad32da4a1f"
  },
  {
   "metadata": {
    "ExecuteTime": {
     "end_time": "2024-05-07T07:15:59.601679Z",
     "start_time": "2024-05-07T07:15:59.590705Z"
    }
   },
   "cell_type": "code",
   "source": [
    "from corus import load_bsnlp # я сначала сам пытался прочитать файлы, но нашел замечательную либу, которая за меня это сделает)\n",
    "path = '../data' # путь к датасетам\n",
    "doc_id = []\n",
    "doc_text = []\n",
    "full_entity = []\n",
    "full_gold = []\n",
    "records = load_bsnlp(path)\n",
    "for record in records:\n",
    "    gold_answer = []\n",
    "    entity = []\n",
    "    doc_id.append(record.id)\n",
    "    doc_text.append(record.text)\n",
    "    for ner in record.substrings:\n",
    "        # if ner.id not in gold_answer:\n",
    "        entity.append(ner.type)\n",
    "        gold_answer.append(ner.id) \n",
    "    full_entity.append(entity)\n",
    "    full_gold.append(gold_answer)"
   ],
   "id": "c795ae0859f1e8c2",
   "outputs": [],
   "execution_count": 370
  },
  {
   "metadata": {
    "ExecuteTime": {
     "end_time": "2024-05-07T07:16:00.291159Z",
     "start_time": "2024-05-07T07:16:00.286483Z"
    }
   },
   "cell_type": "code",
   "source": [
    "import pandas as pd\n",
    "\n",
    "data = pd.DataFrame({\n",
    "    'document_id': doc_id,\n",
    "    'document_text': doc_text,\n",
    "    'entity': full_entity,\n",
    "    'gold_answer': full_gold\n",
    "})\n"
   ],
   "id": "a969707dd715a28d",
   "outputs": [],
   "execution_count": 371
  },
  {
   "metadata": {
    "ExecuteTime": {
     "end_time": "2024-05-07T07:16:00.984037Z",
     "start_time": "2024-05-07T07:16:00.968599Z"
    }
   },
   "cell_type": "code",
   "source": "data.head()",
   "id": "d8dad901b4f9a5c2",
   "outputs": [
    {
     "data": {
      "text/plain": [
       "  document_id                                      document_text  \\\n",
       "0       ru-10  Тереза Мэй рассчитывает усидеть в седле до зав...   \n",
       "1     ru-1000  Подробности.ua: Третий за сутки: Борис Джонсон...   \n",
       "2     ru-1001  Глава МИД Британии Борис Джонсон подал в отста...   \n",
       "3     ru-1002  09.07.2018 18:09 : Премьер-министр Великобрита...   \n",
       "4     ru-1003  09.07.2018 17:02 : Министр иностранных дел Вел...   \n",
       "\n",
       "                                              entity  \\\n",
       "0  [EVT, LOC, LOC, PER, LOC, LOC, LOC, LOC, LOC, ...   \n",
       "1  [EVT, PRO, PER, PER, PER, LOC, PER, PER, ORG, ...   \n",
       "2  [ORG, EVT, PER, PER, LOC, PER, PER, ORG, ORG, ...   \n",
       "3                [PER, EVT, LOC, PER, ORG, ORG, PER]   \n",
       "4  [PER, LOC, LOC, PER, PER, ORG, PER, ORG, PER, ...   \n",
       "\n",
       "                                         gold_answer  \n",
       "0  [EVT-Brexit, GPE-Great-Britain, GPE-Great-Brit...  \n",
       "1  [EVT-Brexit, PRO-The-Guardian, PER-Boris-Johns...  \n",
       "2  [ORG-The-Associated-Press, EVT-Brexit, PER-Bor...  \n",
       "3  [PER-Boris-Johnson, EVT-Brexit, GPE-Great-Brit...  \n",
       "4  [PER-Boris-Johnson, GPE-Great-Britain, LOC-Dow...  "
      ],
      "text/html": [
       "<div>\n",
       "<style scoped>\n",
       "    .dataframe tbody tr th:only-of-type {\n",
       "        vertical-align: middle;\n",
       "    }\n",
       "\n",
       "    .dataframe tbody tr th {\n",
       "        vertical-align: top;\n",
       "    }\n",
       "\n",
       "    .dataframe thead th {\n",
       "        text-align: right;\n",
       "    }\n",
       "</style>\n",
       "<table border=\"1\" class=\"dataframe\">\n",
       "  <thead>\n",
       "    <tr style=\"text-align: right;\">\n",
       "      <th></th>\n",
       "      <th>document_id</th>\n",
       "      <th>document_text</th>\n",
       "      <th>entity</th>\n",
       "      <th>gold_answer</th>\n",
       "    </tr>\n",
       "  </thead>\n",
       "  <tbody>\n",
       "    <tr>\n",
       "      <th>0</th>\n",
       "      <td>ru-10</td>\n",
       "      <td>Тереза Мэй рассчитывает усидеть в седле до зав...</td>\n",
       "      <td>[EVT, LOC, LOC, PER, LOC, LOC, LOC, LOC, LOC, ...</td>\n",
       "      <td>[EVT-Brexit, GPE-Great-Britain, GPE-Great-Brit...</td>\n",
       "    </tr>\n",
       "    <tr>\n",
       "      <th>1</th>\n",
       "      <td>ru-1000</td>\n",
       "      <td>Подробности.ua: Третий за сутки: Борис Джонсон...</td>\n",
       "      <td>[EVT, PRO, PER, PER, PER, LOC, PER, PER, ORG, ...</td>\n",
       "      <td>[EVT-Brexit, PRO-The-Guardian, PER-Boris-Johns...</td>\n",
       "    </tr>\n",
       "    <tr>\n",
       "      <th>2</th>\n",
       "      <td>ru-1001</td>\n",
       "      <td>Глава МИД Британии Борис Джонсон подал в отста...</td>\n",
       "      <td>[ORG, EVT, PER, PER, LOC, PER, PER, ORG, ORG, ...</td>\n",
       "      <td>[ORG-The-Associated-Press, EVT-Brexit, PER-Bor...</td>\n",
       "    </tr>\n",
       "    <tr>\n",
       "      <th>3</th>\n",
       "      <td>ru-1002</td>\n",
       "      <td>09.07.2018 18:09 : Премьер-министр Великобрита...</td>\n",
       "      <td>[PER, EVT, LOC, PER, ORG, ORG, PER]</td>\n",
       "      <td>[PER-Boris-Johnson, EVT-Brexit, GPE-Great-Brit...</td>\n",
       "    </tr>\n",
       "    <tr>\n",
       "      <th>4</th>\n",
       "      <td>ru-1003</td>\n",
       "      <td>09.07.2018 17:02 : Министр иностранных дел Вел...</td>\n",
       "      <td>[PER, LOC, LOC, PER, PER, ORG, PER, ORG, PER, ...</td>\n",
       "      <td>[PER-Boris-Johnson, GPE-Great-Britain, LOC-Dow...</td>\n",
       "    </tr>\n",
       "  </tbody>\n",
       "</table>\n",
       "</div>"
      ]
     },
     "execution_count": 372,
     "metadata": {},
     "output_type": "execute_result"
    }
   ],
   "execution_count": 372
  },
  {
   "metadata": {},
   "cell_type": "markdown",
   "source": [
    "# Задание 3\n",
    "Напишите функцию, которая принимает на вход строку??? датафрейма и выдает текст входного сообщения для LLM."
   ],
   "id": "f18996998e8ea003"
  },
  {
   "metadata": {
    "ExecuteTime": {
     "end_time": "2024-05-07T07:16:02.978913Z",
     "start_time": "2024-05-07T07:16:02.971881Z"
    }
   },
   "cell_type": "code",
   "source": [
    "def for_llm(document_text):\n",
    "    return f\"\"\"You are a smart and intelligent Named Entity Recognition (NER) system. You need recognize PER, ORG, LOC, EVT, PRO.\n",
    "<Q>09.07.2018 19:00 : Министр иностранных дел Великобритании Борис Джонсон сегодня подал в отставку из-за внутрипартийного кризиса\n",
    "\n",
    "Министр иностранных дел Великобритании Борис Джонсон сегодня подал в отставку из-за внутрипартийного кризиса, вызванного обсуждением плана Терезы Мэй по Брекзиту. Борис Джонсон — второй министр, который покидает пост, первым в отставку подал Девид Девис министр по делам Брекзита. Борис Джонсон объявил о своей добровольной отставке с поста министра иностранных дел правительства Терезы Мэй за несколько часов до того, как Тереза Мэй должна представить план правительства по условиям Брекзита. Тереза Мэй вызвала в пятницу прошлой недели всех членов кабинета министров в свою загородную резиденцию, чтобы правительство могло согласовать план, который Великобритания предложит Евросоюзу. План, на котором настаивает премьер-министр, вызывает раскол в партии, в которой половина правительства вела кампанию за выход из ЕС, а половина за то, чтобы остаться в рамках ЕС. Жесткое согласование плана вызвало политический кризис, сначала в отставку подал министр по делам Брекзита, главный переговорщик с ЕС от лица Великобритании Девид Девис, следом об отставке заявил Борис Джонсон. Политический обозреватль Бибиси говорит, что министры будут один за одним подавать в отставку, пока Тереза Мэй не откажется от своего плана. Борис Джонсон критиковал план Терезы Мэй еще до заседания правительства, он встречался с бывшим премьером страны Девидом Кэмеронм, и после сказал, что Кэмерон считает план Мэй худшим из возможных. Сам Борис Джонсон сказал во время правительственного обсуждения плана, что обсуждать детали предложения Терезы Мэй — это «полировать какашку». После этого он подал в отставку. Тереза Мэй предупредила в письме министров, что несогалсных с приянтой стратегией выхода из Евросоюза ждет отставка. Критиковать план можно было во время обсуждения, теперь, когда единая стратегия выработана, каждый министр должен ее придерживаться и не имеет права ее критиковать, написала Тереза Мэй. Политический кризис угрожает шансам Терезы Мэй сохранить позицию лидера партии и премьер-министра страны. Борис Джонсон был одним из претендентов на пост лидера партии консерваторов после отставки Дэвида Кэмерона, но проиграл тогда во время внутрипартийного голосования. Пока неизвестно, кто заменит Бориса Джонсона на посту министра иностранных дел Великобритании.\n",
    "<A>\n",
    "Бибиси\tБибиси\tORG\tORG-BBC-Ltd\n",
    "Борис Джонсон\tБорис Джонсон\tPER\tPER-Boris-Johnson\n",
    "Бориса Джонсона\tБорис Джонсон\tPER\tPER-Boris-Johnson\n",
    "Брекзита\tБрекзит\tEVT\tEVT-Brexit\n",
    "Брекзиту\tБрекзит\tEVT\tEVT-Brexit\n",
    "Великобритании\tВеликобритания\tLOC\tGPE-Great-Britain\n",
    "Великобритания\tВеликобритания\tLOC\tGPE-Great-Britain\n",
    "Девид Девис\tДевид Девис\tPER\tPER-David-Davis\n",
    "Девидом Кэмеронм\tДевид Кэмерон\tPER\tPER-David-Cameron\n",
    "Дэвида Кэмерона\tДэвид Кэмерон\tPER\tPER-David-Cameron\n",
    "ЕС\tЕС\tORG\tORG-European-Union\n",
    "Евросоюза\tЕвросоюз\tORG\tORG-European-Union\n",
    "Евросоюзу\tЕвросоюз\tORG\tORG-European-Union\n",
    "Кэмерон\tКэмерон\tPER\tPER-David-Cameron\n",
    "Мэй\tМэй\tPER\tPER-Theresa-May\n",
    "Тереза Мэй\tТереза Мэй\tPER\tPER-Theresa-May\n",
    "Терезы Мэй\tТереза Мэй\tPER\tPER-Theresa-May\n",
    "кабинета министров\tкабинет министров\tORG\tORG-Cabinet-of-the-United-Kingdom\n",
    "партии консерваторов\tпартия консерваторов\tORG\tORG-Conservative-and-Unionist-Party-UK\n",
    "план правительства по условиям Брекзита\tплан правительства по условиям Брекзита\tPRO\tPRO-Brexit-withdrawal-agreement\n",
    "<Q>{document_text}\"\"\"\n"
   ],
   "id": "b0ce3ace51a2e6fb",
   "outputs": [],
   "execution_count": 373
  },
  {
   "metadata": {},
   "cell_type": "markdown",
   "source": [
    "# Задание 4\n",
    "\n",
    "Получите ответы GigaChat для всех документов. Документов всего 9, поэтому сделать это можно вручную, пользуясь веб-интерфейсом GigaChat или ботом в ВК или Телеграме. Не очищайте историю сообщений, чтобы потом продемонстрировать подлинность ответов на онлайн-собеседовании.\n",
    "Внесите ответы GigaChat в датафрейм, сохраните его.\n"
   ],
   "id": "6843a9adc4145dc6"
  },
  {
   "metadata": {},
   "cell_type": "markdown",
   "source": [
    "ru-10\n",
    "\n",
    "Борис Джонсон\tБорис Джонсон\tPER\tPER-Boris-Johnson\n",
    "\n",
    "Брекзита\tБрекзит\tEVT\tEVT-Brexit\n",
    "\n",
    "ЕС\tЕС\tORG\tORG-European-Union\n",
    "\n",
    "Евросоюза\tЕвросоюз\tORG\tORG-European-Union\n",
    "\n",
    "Мэй\tМэй\tPER\tPER-Theresa-May\n",
    "\n",
    "Тереза Мэй\tТереза Мэй\tPER\tPER-Theresa-May"
   ],
   "id": "d769a15cf2d687d8"
  },
  {
   "metadata": {
    "ExecuteTime": {
     "end_time": "2024-05-07T07:16:04.936598Z",
     "start_time": "2024-05-07T07:16:04.932473Z"
    }
   },
   "cell_type": "code",
   "source": "giga_pred = []",
   "id": "80c0d86416283255",
   "outputs": [],
   "execution_count": 374
  },
  {
   "metadata": {
    "ExecuteTime": {
     "end_time": "2024-05-07T07:16:05.135407Z",
     "start_time": "2024-05-07T07:16:05.131683Z"
    }
   },
   "cell_type": "code",
   "source": [
    "giga_text = ['PER-Boris-Johnson', 'EVT-Brexit', 'ORG-European-Union', 'ORG-European-Union', 'PER-Theresa-May', 'PER-Theresa-May']\n",
    "giga_pred.append(giga_text)"
   ],
   "id": "9077141c22ed53d0",
   "outputs": [],
   "execution_count": 375
  },
  {
   "metadata": {},
   "cell_type": "markdown",
   "source": [
    "ru-1000\n",
    "\n",
    "Борис Джонсон\tБорис Джонсон\tPER\tPER-Boris-Johnson\n",
    "\n",
    "Дэвид Дэвис\tДэвид Дэвис\tPER\tPER-David-Davis\n",
    "\n",
    "Стив Бейкер\tСтив Бейкер\tPER\tPER-Steve- Baker\n",
    "\n",
    "Тереза Мэй\tТереза Мэй\tPER\tPER-Theresa-May\n",
    "\n",
    "Великобритании\tВеликобритания\tLOC\tGPE-Great-Britain\n",
    "\n",
    "ЕС\tЕС\tORG\tORG-European-Union\n",
    "\n",
    "Соединенного Королевства\tСоединенное Королевство\tLOC\tGPE-United-Kingdom\n"
   ],
   "id": "1856d44cea5c5baf"
  },
  {
   "metadata": {
    "ExecuteTime": {
     "end_time": "2024-05-07T07:16:05.504513Z",
     "start_time": "2024-05-07T07:16:05.500270Z"
    }
   },
   "cell_type": "code",
   "source": [
    "giga_text = ['PER-Boris-Johnson', 'PER-David-Davis', 'PER-Steve- Baker', 'PER-Theresa-May', 'GPE-Great-Britain', 'ORG-European-Union', 'GPE-United-Kingdom']\n",
    "giga_pred.append(giga_text)"
   ],
   "id": "9df5f9b5a711c876",
   "outputs": [],
   "execution_count": 376
  },
  {
   "metadata": {},
   "cell_type": "markdown",
   "source": [
    "ru-1001\n",
    "\n",
    "Борис Джонсон\tБорис Джонсон\tPER\tPER-Boris-Johnson\n",
    "\n",
    "Великобритании\tВеликобритания\tLOC\tGPE-Great-Britain\n",
    "\n",
    "ЕС\tЕС\tORG\tORG-European-Union\n",
    "\n",
    "Мэй\tМэй\tPER\tPER-Theresa-May\n",
    "\n",
    "Тереза Мэй\tТереза Мэй\tPER\tPER-Theresa-May"
   ],
   "id": "34272a1f7da296ec"
  },
  {
   "metadata": {
    "ExecuteTime": {
     "end_time": "2024-05-07T07:16:05.802206Z",
     "start_time": "2024-05-07T07:16:05.798504Z"
    }
   },
   "cell_type": "code",
   "source": [
    "giga_text = ['PER-Boris-Johnson', 'GPE-Great-Britain', 'ORG-European-Union', 'PER-Theresa-May', 'PER-Theresa-May']\n",
    "giga_pred.append(giga_text)"
   ],
   "id": "2219c346e60d9f65",
   "outputs": [],
   "execution_count": 377
  },
  {
   "metadata": {},
   "cell_type": "markdown",
   "source": [
    "ru-1002\n",
    "\n",
    "Борис Джонсон\tБорис Джонсон\tPER\tPER-Boris-Johnson\n",
    "\n",
    "Бориса Джонсона\tБорис Джонсон\tPER\tPER-Boris-Johnson\n",
    "\n",
    "Великобритании\tВеликобритания\tLOC\tGPE-Great-Britain\n",
    "\n",
    "Великобритания\tВеликобритания\tLOC\tGPE-Great-Britain\n",
    "\n",
    "Дэвид Дэвис\tДэвид Дэвис\tPER\tPER-David-Davis\n",
    "\n",
    "ЕС\tЕС\tORG\tORG-European-Union\n",
    "\n",
    "Евросоюза\tЕвросоюз\tORG\tORG-European-Union\n",
    "\n",
    "Евросоюзу\tЕвросоюз\tORG\tORG-European-Union\n",
    "\n",
    "Мэй\tМэй\tPER\tPER-Theresa-May\n",
    "\n",
    "Тереза Мэй\tТереза Мэй\tPER\tPER-Theresa-May\n",
    "\n",
    "Терезы Мэй\tТереза Мэй\tPER\tPER-Theresa-May"
   ],
   "id": "517efc964cccb458"
  },
  {
   "metadata": {
    "ExecuteTime": {
     "end_time": "2024-05-07T07:16:06.166985Z",
     "start_time": "2024-05-07T07:16:06.162453Z"
    }
   },
   "cell_type": "code",
   "source": [
    "giga_text = ['PER-Boris-Johnson',\n",
    " 'PER-Boris-Johnson',\n",
    " 'GPE-Great-Britain',\n",
    " 'GPE-Great-Britain',\n",
    " 'PER-David-Davis',\n",
    " 'ORG-European-Union',\n",
    " 'ORG-European-Union',\n",
    " 'ORG-European-Union',\n",
    " 'PER-Theresa-May',\n",
    " 'PER-Theresa-May',\n",
    " 'PER-Theresa-May']\n",
    "giga_pred.append(giga_text)"
   ],
   "id": "86fb6d82d41b9dd9",
   "outputs": [],
   "execution_count": 378
  },
  {
   "metadata": {},
   "cell_type": "markdown",
   "source": [
    "ru-1003\n",
    "\n",
    "Борис Джонсон\tБорис Джонсон\tPER\tPER-Boris-Johnson\n",
    "\n",
    "Даунинг-Стрит\tДаунинг-стрит\tORG\tORG-Downing-Street\n",
    "\n",
    "Дэвид Дэвис\tДэвид Дэвис\tPER\tPER-David-Davis\n",
    "\n",
    "Мэй\tМэй\tPER\tPER-Theresa-May\n",
    "\n",
    "Рейтер\tРейтер\tORG\tORG-Reuters\n",
    "\n",
    "Тереза Мэй\tТереза Мэй\tPER\tPER-Theresa-May\n",
    "\n",
    "Великобритании\tВеликобритания\tLOC\tGPE-Great-Britain\n",
    "\n",
    "Великобритания\tВеликобритания\tLOC\tGPE-Great-Britain\n",
    "\n",
    "Евросоюза\tЕвросоюз\tORG\tORG-European-Union"
   ],
   "id": "66471e636e8534bb"
  },
  {
   "metadata": {
    "ExecuteTime": {
     "end_time": "2024-05-07T07:16:06.531532Z",
     "start_time": "2024-05-07T07:16:06.527563Z"
    }
   },
   "cell_type": "code",
   "source": [
    "giga_text = ['PER-Boris-Johnson',\n",
    " 'ORG-Downing-Street',\n",
    " 'PER-David-Davis',\n",
    " 'PER-Theresa-May',\n",
    " 'ORG-Reuters',\n",
    " 'PER-Theresa-May',\n",
    " 'GPE-Great-Britain',\n",
    " 'GPE-Great-Britain',\n",
    " 'ORG-European-Union']\n",
    "giga_pred.append(giga_text)\n"
   ],
   "id": "9d9c1b190af4e7f9",
   "outputs": [],
   "execution_count": 379
  },
  {
   "metadata": {},
   "cell_type": "markdown",
   "source": [
    "ru-1004\n",
    "\n",
    "Борис Джонсон\tБорис Джонсон\tPER\tPER-Boris-Johnson\n",
    "\n",
    "Великобритании\tВеликобритания\tLOC\tGPE-Great-Britain\n",
    "\n",
    "Дэвид Дэвис\tДэвид Дэвис\tPER\tPER-David-Davis\n",
    "\n",
    "ЕС\tЕС\tORG\tORG-European-Union\n",
    "\n",
    "Мэй\tМэй\tPER\tPER-Theresa-May\n",
    "\n",
    "Тереза Мэй\tТереза Мэй\tPER\tPER-Theresa-May"
   ],
   "id": "1e08ea9583b276b2"
  },
  {
   "metadata": {
    "ExecuteTime": {
     "end_time": "2024-05-07T07:16:06.943410Z",
     "start_time": "2024-05-07T07:16:06.939489Z"
    }
   },
   "cell_type": "code",
   "source": [
    "giga_text = ['PER-Boris-Johnson',\n",
    " 'GPE-Great-Britain',\n",
    " 'PER-David-Davis',\n",
    " 'ORG-European-Union',\n",
    " 'PER-Theresa-May',\n",
    " 'PER-Theresa-May']\n",
    "\n",
    "giga_pred.append(giga_text)"
   ],
   "id": "ed392828b4a35c61",
   "outputs": [],
   "execution_count": 380
  },
  {
   "metadata": {},
   "cell_type": "markdown",
   "source": [
    "ru-1006\n",
    "\n",
    "Борис Джонсон\tБорис Джонсон\tPER\tPER-Boris-Johnson\n",
    "\n",
    "Мария Захарова\tМария Захарова\tPER\tPER-Maria-Zakharova\n",
    "\n",
    "Великобритании\tВеликобритания\tLOC\tGPE-Great-Britain\n",
    "\n",
    "Терезы Мэй\tТереза Мэй\tPER\tPER-Theresa-May"
   ],
   "id": "da1517a337226fb"
  },
  {
   "metadata": {
    "ExecuteTime": {
     "end_time": "2024-05-07T07:16:07.557533Z",
     "start_time": "2024-05-07T07:16:07.554234Z"
    }
   },
   "cell_type": "code",
   "source": [
    "giga_text = ['PER-Boris-Johnson',\n",
    " 'PER-Maria-Zakharova',\n",
    " 'GPE-Great-Britain',\n",
    " 'PER-Theresa-May']\n",
    "giga_pred.append(giga_text)"
   ],
   "id": "6bde982af8bba747",
   "outputs": [],
   "execution_count": 381
  },
  {
   "metadata": {},
   "cell_type": "markdown",
   "source": [
    "ru-1011\n",
    "\n",
    "Борис Джонсон\tБорис Джонсон\tPER\tPER-Boris-Johnson\n",
    "\n",
    "Британии\tВеликобритания\tLOC\tGPE-Great-Britain\n",
    "\n",
    "Дэвида Дэвиса\tДэвид Дэвис\tPER\tPER-David-Davis\n",
    "\n",
    "ЕС\tЕС\tORG\tORG-European-Union\n",
    "\n",
    "Мэй\tМэй\tPER\tPER-Theresa-May\n",
    "\n",
    "Терезы Мэй\tТереза Мэй\tPER\tPER-Theresa-May\n",
    "\n",
    "британской прессы\tбританская пресса\tORG\tORG-British-Press\n",
    "\n",
    "выхода из ЕС\tвыход из ЕС\tEVT\tEVT-Brexit\n",
    "\n",
    "выхода из Евросоюза\tвыход из Евросоюза\tEVT\tEVT-Brexit"
   ],
   "id": "5c40554ad7c22e30"
  },
  {
   "metadata": {
    "ExecuteTime": {
     "end_time": "2024-05-07T07:16:08.129509Z",
     "start_time": "2024-05-07T07:16:08.125847Z"
    }
   },
   "cell_type": "code",
   "source": [
    "giga_text = ['PER-Boris-Johnson',\n",
    " 'GPE-Great-Britain',\n",
    " 'PER-David-Davis',\n",
    " 'ORG-European-Union',\n",
    " 'PER-Theresa-May',\n",
    " 'PER-Theresa-May',\n",
    " 'ORG-British-Press',\n",
    " 'EVT-Brexit',\n",
    " 'EVT-Brexit']\n",
    "giga_pred.append(giga_text)"
   ],
   "id": "18be8a964b44cddf",
   "outputs": [],
   "execution_count": 382
  },
  {
   "metadata": {},
   "cell_type": "markdown",
   "source": [
    "ru-1017\n",
    "\n",
    "*Как у нейросетевой языковой модели у меня не может быть настроения, но почему-то я совсем не хочу говорить на эту тему.*"
   ],
   "id": "f0e77b45363f15e3"
  },
  {
   "metadata": {
    "ExecuteTime": {
     "end_time": "2024-05-07T07:16:08.869491Z",
     "start_time": "2024-05-07T07:16:08.865481Z"
    }
   },
   "cell_type": "code",
   "source": [
    "giga_text = [':(']\n",
    "giga_pred.append(giga_text)"
   ],
   "id": "ba802f1dca09e7cd",
   "outputs": [],
   "execution_count": 383
  },
  {
   "metadata": {
    "ExecuteTime": {
     "end_time": "2024-05-07T07:16:09.417694Z",
     "start_time": "2024-05-07T07:16:09.413341Z"
    }
   },
   "cell_type": "code",
   "source": [
    "# s = \"\"\"Борис Джонсон\tБорис Джонсон\tPER\tPER-Boris-Johnson\n",
    "# Британии\tВеликобритания\tLOC\tGPE-Great-Britain\n",
    "# Дэвида Дэвиса\tДэвид Дэвис\tPER\tPER-David-Davis\n",
    "# ЕС\tЕС\tORG\tORG-European-Union\n",
    "# Мэй\tМэй\tPER\tPER-Theresa-May\n",
    "# Терезы Мэй\tТереза Мэй\tPER\tPER-Theresa-May\n",
    "# британской прессы\tбританская пресса\tORG\tORG-British-Press\n",
    "# выхода из ЕС\tвыход из ЕС\tEVT\tEVT-Brexit\n",
    "# выхода из Евросоюза\tвыход из Евросоюза\tEVT\tEVT-Brexit\"\"\"\n",
    "# needed = [line.split('\\t')[-1] for line in s.split('\\n')]\n",
    "# needed"
   ],
   "id": "55475c92da5ccc16",
   "outputs": [],
   "execution_count": 384
  },
  {
   "metadata": {
    "ExecuteTime": {
     "end_time": "2024-05-07T07:16:09.760420Z",
     "start_time": "2024-05-07T07:16:09.755914Z"
    }
   },
   "cell_type": "code",
   "source": "data['giga_pred'] = giga_pred",
   "id": "250fd4d5d6dfbcec",
   "outputs": [],
   "execution_count": 385
  },
  {
   "metadata": {
    "ExecuteTime": {
     "end_time": "2024-05-07T07:16:10.739146Z",
     "start_time": "2024-05-07T07:16:10.735708Z"
    }
   },
   "cell_type": "code",
   "source": "# data.to_csv('result_v1.csv')",
   "id": "7eaaf3009ba0117a",
   "outputs": [],
   "execution_count": 386
  },
  {
   "metadata": {},
   "cell_type": "markdown",
   "source": [
    "# Задание 5\n",
    "\n",
    "Реализуйте самостоятельно алгоритм для подсчета метрик score_fn(gold: str, pred: str) → float. Можно пользоваться только библиотеками numpy, scipy, pandas. Напишите юнит-тесты. Возможно ли ускорить вычисление функции через векторную реализацию? Поясните решение и обоснуйте, почему выбрали именно такую метрику."
   ],
   "id": "c409c77e2568c8d9"
  },
  {
   "metadata": {
    "ExecuteTime": {
     "end_time": "2024-05-07T07:16:11.541637Z",
     "start_time": "2024-05-07T07:16:11.534957Z"
    }
   },
   "cell_type": "code",
   "source": [
    "data['gold_answer'] = data['gold_answer'].apply(lambda x: ' '.join(x) if isinstance(x, list) else x)\n",
    "data['giga_pred'] = data['giga_pred'].apply(lambda x: ' '.join(x) if isinstance(x, list) else x)"
   ],
   "id": "e906f1ce352a8160",
   "outputs": [],
   "execution_count": 387
  },
  {
   "metadata": {
    "ExecuteTime": {
     "end_time": "2024-05-07T07:16:12.389498Z",
     "start_time": "2024-05-07T07:16:12.384885Z"
    }
   },
   "cell_type": "code",
   "source": [
    "def score_fn(gold: str, pred: str) -> float:\n",
    "    gold_entities = [entity for entity in gold.split()]\n",
    "    pred_entities = [entity for entity in pred.split()]\n",
    "    n = 1\n",
    "    precision = sum(1 for pred in pred_entities if pred in gold_entities) / len(pred_entities)\n",
    "    recall = sum(1 for pred in pred_entities if pred in gold_entities) / len(gold_entities)\n",
    "    try:\n",
    "        f_score = ((1 + n**2) * precision * recall)/((n**2 * precision) + recall)\n",
    "    except:\n",
    "        return 0.0\n",
    "    if f_score <= 1:\n",
    "        return f_score\n",
    "    else:\n",
    "        return 1.0"
   ],
   "id": "505e97b7ecc16086",
   "outputs": [],
   "execution_count": 388
  },
  {
   "metadata": {
    "ExecuteTime": {
     "end_time": "2024-05-07T07:16:13.370201Z",
     "start_time": "2024-05-07T07:16:13.364684Z"
    }
   },
   "cell_type": "code",
   "source": [
    "gold = \"entity1 entity2\"\n",
    "pred = \"entity3 entity4\"\n",
    "score_fn(gold, pred)\n",
    "# 0.0"
   ],
   "id": "a7a4d96887228926",
   "outputs": [
    {
     "data": {
      "text/plain": [
       "0.0"
      ]
     },
     "execution_count": 389,
     "metadata": {},
     "output_type": "execute_result"
    }
   ],
   "execution_count": 389
  },
  {
   "metadata": {
    "ExecuteTime": {
     "end_time": "2024-05-07T07:16:14.163136Z",
     "start_time": "2024-05-07T07:16:14.157321Z"
    }
   },
   "cell_type": "code",
   "source": [
    "gold = \"entity1 entity2 entity3\"\n",
    "pred = \"entity1 entity2 entity3\"\n",
    "score_fn(gold, pred)\n",
    "# 1.0"
   ],
   "id": "8678049b97118ee2",
   "outputs": [
    {
     "data": {
      "text/plain": [
       "1.0"
      ]
     },
     "execution_count": 390,
     "metadata": {},
     "output_type": "execute_result"
    }
   ],
   "execution_count": 390
  },
  {
   "metadata": {},
   "cell_type": "markdown",
   "source": [
    "# Задание 6\n",
    "Вычислите метрики для каждой строки в датафрейме. Сагрегируйте результаты а) по каждой сущности, б) по каждому документу. Изобразите результаты на графиках. Какие выводы можно сделать?"
   ],
   "id": "1c9e6a54cd5cd763"
  },
  {
   "metadata": {
    "ExecuteTime": {
     "end_time": "2024-05-07T07:16:19.151883Z",
     "start_time": "2024-05-07T07:16:19.146594Z"
    }
   },
   "cell_type": "code",
   "source": [
    "scores = data.apply(lambda x: score_fn(x['gold_answer'], x['giga_pred']), axis=1)\n",
    "data['scores'] = scores"
   ],
   "id": "647011d86c022ddc",
   "outputs": [],
   "execution_count": 391
  },
  {
   "metadata": {},
   "cell_type": "markdown",
   "source": "б) по каждому документу",
   "id": "7df9212c427686a2"
  },
  {
   "metadata": {
    "ExecuteTime": {
     "end_time": "2024-05-07T07:16:23.215911Z",
     "start_time": "2024-05-07T07:16:23.024129Z"
    }
   },
   "cell_type": "code",
   "source": [
    "import matplotlib.pyplot as plt\n",
    "document_scores_mean = scores.groupby(data.index).mean()\n",
    "plt.bar(document_scores_mean.index, document_scores_mean.values)\n",
    "plt.xlabel('Document')\n",
    "plt.ylabel('Mean score')\n",
    "plt.title('Score by document')\n"
   ],
   "id": "e81914cf289e9f5c",
   "outputs": [
    {
     "data": {
      "text/plain": [
       "Text(0.5, 1.0, 'Score by document')"
      ]
     },
     "execution_count": 392,
     "metadata": {},
     "output_type": "execute_result"
    },
    {
     "data": {
      "text/plain": [
       "<Figure size 640x480 with 1 Axes>"
      ],
      "image/png": "[encoded data removed]"
     },
     "metadata": {},
     "output_type": "display_data"
    }
   ],
   "execution_count": 392
  },
  {
   "metadata": {},
   "cell_type": "markdown",
   "source": [
    "И тут я понял, что я ошибся еще в самом начале, когда неправильно начал считывать данные. Не получится сагрегировать по каждой сущности(если тут имеется ввиду EVT, PER, ORG...)\n",
    "\n",
    "Но помня ответы gigachat'а, я могу сказать, что он хорошо распознает PER"
   ],
   "id": "c30301bfa0bce822"
  },
  {
   "metadata": {},
   "cell_type": "markdown",
   "source": [
    "# Задание 7\n",
    "Есть ли зависимость метрик от длины документа? Постройте графики, чтобы ответить на вопрос."
   ],
   "id": "11f44d5e9736d7bb"
  },
  {
   "metadata": {
    "ExecuteTime": {
     "end_time": "2024-05-07T05:52:42.493076Z",
     "start_time": "2024-05-07T05:52:42.407887Z"
    }
   },
   "cell_type": "code",
   "source": [
    "import matplotlib.pyplot as plt\n",
    "\n",
    "# Calculate the length of each document\n",
    "doc_lengths = data['document_text'].apply(len)\n",
    "\n",
    "# Plot the scores against doc lengths\n",
    "plt.scatter(doc_lengths, scores)\n",
    "plt.xlabel('Document Length')\n",
    "plt.ylabel('Score')\n",
    "plt.show()"
   ],
   "id": "d1a873417ff2a529",
   "outputs": [
    {
     "data": {
      "text/plain": [
       "<Figure size 640x480 with 1 Axes>"
      ],
      "image/png": "[encoded data removed]"
     },
     "metadata": {},
     "output_type": "display_data"
    }
   ],
   "execution_count": 366
  },
  {
   "metadata": {},
   "cell_type": "markdown",
   "source": [
    "Скорее да, чем нет.\n",
    "\n",
    "Длинные тексты будут вызывать затруднения у LLM, что-то он просто пропустит и не выделит, что-то наоборот лишнее найдет"
   ],
   "id": "15434b3be3c40d27"
  },
  {
   "metadata": {},
   "cell_type": "markdown",
   "source": [
    "# Задание 8\n",
    "Проведите анализ ошибок. Когда модель чаще отвечает правильно, а когда ошибается? Предложите варианты, как повысить метрики."
   ],
   "id": "8093fb2ac4d61fc7"
  },
  {
   "metadata": {},
   "cell_type": "markdown",
   "source": [
    "# Задание 9\n",
    "\n",
    "Самая главная ошибка, что я не уточнил, хотя сомневался в том, что я правильно понял. Вторая по важности ошибка, что я начал делать задание почти в притык"
   ],
   "id": "77b4df456983e21b"
  },
  {
   "metadata": {},
   "cell_type": "code",
   "outputs": [],
   "execution_count": null,
   "source": "",
   "id": "133d6eeffdf7247d"
  }
 ],
 "metadata": {
  "kernelspec": {
   "display_name": "Python 3",
   "language": "python",
   "name": "python3"
  },
  "language_info": {
   "codemirror_mode": {
    "name": "ipython",
    "version": 2
   },
   "file_extension": ".py",
   "mimetype": "text/x-python",
   "name": "python",
   "nbconvert_exporter": "python",
   "pygments_lexer": "ipython2",
   "version": "2.7.6"
  }
 },
 "nbformat": 4,
 "nbformat_minor": 5
}
